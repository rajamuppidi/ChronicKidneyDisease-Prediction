{
 "cells": [
  {
   "cell_type": "markdown",
   "id": "85d39f94",
   "metadata": {
    "id": "r7GrZzX0iTlV",
    "papermill": {
     "duration": 0.060628,
     "end_time": "2022-05-09T07:32:45.681063",
     "exception": false,
     "start_time": "2022-05-09T07:32:45.620435",
     "status": "completed"
    },
    "tags": []
   },
   "source": [
    "## Importing the required Library"
   ]
  },
  {
   "cell_type": "code",
   "execution_count": 1,
   "id": "fb3d045b",
   "metadata": {
    "id": "UkK6NH9DiW-X",
    "papermill": {
     "duration": 1.048442,
     "end_time": "2022-05-09T07:32:46.790322",
     "exception": false,
     "start_time": "2022-05-09T07:32:45.741880",
     "status": "completed"
    },
    "tags": []
   },
   "outputs": [],
   "source": [
    "import pandas as pd\n",
    "import numpy as np\n",
    "import matplotlib.pyplot as plt\n",
    "import sklearn as sk\n",
    "import seaborn as sns"
   ]
  },
  {
   "cell_type": "markdown",
   "id": "71c77c33",
   "metadata": {
    "id": "9lHPQj1XiOUc",
    "papermill": {
     "duration": 0.064883,
     "end_time": "2022-05-09T07:32:46.916557",
     "exception": false,
     "start_time": "2022-05-09T07:32:46.851674",
     "status": "completed"
    },
    "tags": []
   },
   "source": [
    "**Importing the Data**"
   ]
  },
  {
   "cell_type": "code",
   "execution_count": 2,
   "id": "075ff96a",
   "metadata": {
    "id": "rvaM_TcjmUXm",
    "papermill": {
     "duration": 0.21253,
     "end_time": "2022-05-09T07:32:47.575764",
     "exception": false,
     "start_time": "2022-05-09T07:32:47.363234",
     "status": "completed"
    },
    "tags": []
   },
   "outputs": [],
   "source": [
    "df=pd.read_csv(\"kidney_disease.csv\");"
   ]
  },
  {
   "cell_type": "markdown",
   "id": "13ad905e",
   "metadata": {
    "id": "7PUnimBoiX-x",
    "papermill": {
     "duration": 0.060245,
     "end_time": "2022-05-09T07:32:47.696952",
     "exception": false,
     "start_time": "2022-05-09T07:32:47.636707",
     "status": "completed"
    },
    "tags": []
   },
   "source": [
    "## Exploring the data "
   ]
  },
  {
   "cell_type": "code",
   "execution_count": 3,
   "id": "7bd79e5b",
   "metadata": {
    "id": "kG15arusiZ8Z",
    "outputId": "f0b8a34b-f1bc-4c26-8794-2e29bedc2421",
    "papermill": {
     "duration": 0.070884,
     "end_time": "2022-05-09T07:32:47.949852",
     "exception": false,
     "start_time": "2022-05-09T07:32:47.878968",
     "status": "completed"
    },
    "tags": []
   },
   "outputs": [
    {
     "data": {
      "text/plain": [
       "(400, 26)"
      ]
     },
     "execution_count": 3,
     "metadata": {},
     "output_type": "execute_result"
    }
   ],
   "source": [
    "df.shape #shows the no. of rows and the no. of columns"
   ]
  },
  {
   "cell_type": "code",
   "execution_count": 4,
   "id": "446f642f",
   "metadata": {
    "id": "ObWzuO4j_rSX",
    "outputId": "37b826cd-5e3f-40c5-b963-af7d6eb184f1",
    "papermill": {
     "duration": 0.092735,
     "end_time": "2022-05-09T07:32:48.229040",
     "exception": false,
     "start_time": "2022-05-09T07:32:48.136305",
     "status": "completed"
    },
    "tags": []
   },
   "outputs": [
    {
     "data": {
      "text/html": [
       "<div>\n",
       "<style scoped>\n",
       "    .dataframe tbody tr th:only-of-type {\n",
       "        vertical-align: middle;\n",
       "    }\n",
       "\n",
       "    .dataframe tbody tr th {\n",
       "        vertical-align: top;\n",
       "    }\n",
       "\n",
       "    .dataframe thead th {\n",
       "        text-align: right;\n",
       "    }\n",
       "</style>\n",
       "<table border=\"1\" class=\"dataframe\">\n",
       "  <thead>\n",
       "    <tr style=\"text-align: right;\">\n",
       "      <th></th>\n",
       "      <th>id</th>\n",
       "      <th>age</th>\n",
       "      <th>bp</th>\n",
       "      <th>sg</th>\n",
       "      <th>al</th>\n",
       "      <th>su</th>\n",
       "      <th>rbc</th>\n",
       "      <th>pc</th>\n",
       "      <th>pcc</th>\n",
       "      <th>ba</th>\n",
       "      <th>...</th>\n",
       "      <th>pcv</th>\n",
       "      <th>wc</th>\n",
       "      <th>rc</th>\n",
       "      <th>htn</th>\n",
       "      <th>dm</th>\n",
       "      <th>cad</th>\n",
       "      <th>appet</th>\n",
       "      <th>pe</th>\n",
       "      <th>ane</th>\n",
       "      <th>classification</th>\n",
       "    </tr>\n",
       "  </thead>\n",
       "  <tbody>\n",
       "    <tr>\n",
       "      <th>0</th>\n",
       "      <td>0</td>\n",
       "      <td>48.0</td>\n",
       "      <td>80.0</td>\n",
       "      <td>1.020</td>\n",
       "      <td>1.0</td>\n",
       "      <td>0.0</td>\n",
       "      <td>NaN</td>\n",
       "      <td>normal</td>\n",
       "      <td>notpresent</td>\n",
       "      <td>notpresent</td>\n",
       "      <td>...</td>\n",
       "      <td>44</td>\n",
       "      <td>7800</td>\n",
       "      <td>5.2</td>\n",
       "      <td>yes</td>\n",
       "      <td>yes</td>\n",
       "      <td>no</td>\n",
       "      <td>good</td>\n",
       "      <td>no</td>\n",
       "      <td>no</td>\n",
       "      <td>ckd</td>\n",
       "    </tr>\n",
       "    <tr>\n",
       "      <th>1</th>\n",
       "      <td>1</td>\n",
       "      <td>7.0</td>\n",
       "      <td>50.0</td>\n",
       "      <td>1.020</td>\n",
       "      <td>4.0</td>\n",
       "      <td>0.0</td>\n",
       "      <td>NaN</td>\n",
       "      <td>normal</td>\n",
       "      <td>notpresent</td>\n",
       "      <td>notpresent</td>\n",
       "      <td>...</td>\n",
       "      <td>38</td>\n",
       "      <td>6000</td>\n",
       "      <td>NaN</td>\n",
       "      <td>no</td>\n",
       "      <td>no</td>\n",
       "      <td>no</td>\n",
       "      <td>good</td>\n",
       "      <td>no</td>\n",
       "      <td>no</td>\n",
       "      <td>ckd</td>\n",
       "    </tr>\n",
       "    <tr>\n",
       "      <th>2</th>\n",
       "      <td>2</td>\n",
       "      <td>62.0</td>\n",
       "      <td>80.0</td>\n",
       "      <td>1.010</td>\n",
       "      <td>2.0</td>\n",
       "      <td>3.0</td>\n",
       "      <td>normal</td>\n",
       "      <td>normal</td>\n",
       "      <td>notpresent</td>\n",
       "      <td>notpresent</td>\n",
       "      <td>...</td>\n",
       "      <td>31</td>\n",
       "      <td>7500</td>\n",
       "      <td>NaN</td>\n",
       "      <td>no</td>\n",
       "      <td>yes</td>\n",
       "      <td>no</td>\n",
       "      <td>poor</td>\n",
       "      <td>no</td>\n",
       "      <td>yes</td>\n",
       "      <td>ckd</td>\n",
       "    </tr>\n",
       "    <tr>\n",
       "      <th>3</th>\n",
       "      <td>3</td>\n",
       "      <td>48.0</td>\n",
       "      <td>70.0</td>\n",
       "      <td>1.005</td>\n",
       "      <td>4.0</td>\n",
       "      <td>0.0</td>\n",
       "      <td>normal</td>\n",
       "      <td>abnormal</td>\n",
       "      <td>present</td>\n",
       "      <td>notpresent</td>\n",
       "      <td>...</td>\n",
       "      <td>32</td>\n",
       "      <td>6700</td>\n",
       "      <td>3.9</td>\n",
       "      <td>yes</td>\n",
       "      <td>no</td>\n",
       "      <td>no</td>\n",
       "      <td>poor</td>\n",
       "      <td>yes</td>\n",
       "      <td>yes</td>\n",
       "      <td>ckd</td>\n",
       "    </tr>\n",
       "    <tr>\n",
       "      <th>4</th>\n",
       "      <td>4</td>\n",
       "      <td>51.0</td>\n",
       "      <td>80.0</td>\n",
       "      <td>1.010</td>\n",
       "      <td>2.0</td>\n",
       "      <td>0.0</td>\n",
       "      <td>normal</td>\n",
       "      <td>normal</td>\n",
       "      <td>notpresent</td>\n",
       "      <td>notpresent</td>\n",
       "      <td>...</td>\n",
       "      <td>35</td>\n",
       "      <td>7300</td>\n",
       "      <td>4.6</td>\n",
       "      <td>no</td>\n",
       "      <td>no</td>\n",
       "      <td>no</td>\n",
       "      <td>good</td>\n",
       "      <td>no</td>\n",
       "      <td>no</td>\n",
       "      <td>ckd</td>\n",
       "    </tr>\n",
       "  </tbody>\n",
       "</table>\n",
       "<p>5 rows × 26 columns</p>\n",
       "</div>"
      ],
      "text/plain": [
       "   id   age    bp     sg   al   su     rbc        pc         pcc          ba  \\\n",
       "0   0  48.0  80.0  1.020  1.0  0.0     NaN    normal  notpresent  notpresent   \n",
       "1   1   7.0  50.0  1.020  4.0  0.0     NaN    normal  notpresent  notpresent   \n",
       "2   2  62.0  80.0  1.010  2.0  3.0  normal    normal  notpresent  notpresent   \n",
       "3   3  48.0  70.0  1.005  4.0  0.0  normal  abnormal     present  notpresent   \n",
       "4   4  51.0  80.0  1.010  2.0  0.0  normal    normal  notpresent  notpresent   \n",
       "\n",
       "   ...  pcv    wc   rc  htn   dm  cad appet   pe  ane classification  \n",
       "0  ...   44  7800  5.2  yes  yes   no  good   no   no            ckd  \n",
       "1  ...   38  6000  NaN   no   no   no  good   no   no            ckd  \n",
       "2  ...   31  7500  NaN   no  yes   no  poor   no  yes            ckd  \n",
       "3  ...   32  6700  3.9  yes   no   no  poor  yes  yes            ckd  \n",
       "4  ...   35  7300  4.6   no   no   no  good   no   no            ckd  \n",
       "\n",
       "[5 rows x 26 columns]"
      ]
     },
     "execution_count": 4,
     "metadata": {},
     "output_type": "execute_result"
    }
   ],
   "source": [
    "df.head() "
   ]
  },
  {
   "cell_type": "code",
   "execution_count": 5,
   "id": "00fe3a4a",
   "metadata": {
    "id": "9lkunTX3_8mL",
    "outputId": "bafc2c7d-6041-4de2-9cec-89f4b726772c",
    "papermill": {
     "duration": 0.085442,
     "end_time": "2022-05-09T07:32:48.499838",
     "exception": false,
     "start_time": "2022-05-09T07:32:48.414396",
     "status": "completed"
    },
    "tags": []
   },
   "outputs": [
    {
     "data": {
      "text/html": [
       "<div>\n",
       "<style scoped>\n",
       "    .dataframe tbody tr th:only-of-type {\n",
       "        vertical-align: middle;\n",
       "    }\n",
       "\n",
       "    .dataframe tbody tr th {\n",
       "        vertical-align: top;\n",
       "    }\n",
       "\n",
       "    .dataframe thead th {\n",
       "        text-align: right;\n",
       "    }\n",
       "</style>\n",
       "<table border=\"1\" class=\"dataframe\">\n",
       "  <thead>\n",
       "    <tr style=\"text-align: right;\">\n",
       "      <th></th>\n",
       "      <th>id</th>\n",
       "      <th>age</th>\n",
       "      <th>bp</th>\n",
       "      <th>sg</th>\n",
       "      <th>al</th>\n",
       "      <th>su</th>\n",
       "      <th>rbc</th>\n",
       "      <th>pc</th>\n",
       "      <th>pcc</th>\n",
       "      <th>ba</th>\n",
       "      <th>...</th>\n",
       "      <th>pcv</th>\n",
       "      <th>wc</th>\n",
       "      <th>rc</th>\n",
       "      <th>htn</th>\n",
       "      <th>dm</th>\n",
       "      <th>cad</th>\n",
       "      <th>appet</th>\n",
       "      <th>pe</th>\n",
       "      <th>ane</th>\n",
       "      <th>classification</th>\n",
       "    </tr>\n",
       "  </thead>\n",
       "  <tbody>\n",
       "    <tr>\n",
       "      <th>395</th>\n",
       "      <td>395</td>\n",
       "      <td>55.0</td>\n",
       "      <td>80.0</td>\n",
       "      <td>1.020</td>\n",
       "      <td>0.0</td>\n",
       "      <td>0.0</td>\n",
       "      <td>normal</td>\n",
       "      <td>normal</td>\n",
       "      <td>notpresent</td>\n",
       "      <td>notpresent</td>\n",
       "      <td>...</td>\n",
       "      <td>47</td>\n",
       "      <td>6700</td>\n",
       "      <td>4.9</td>\n",
       "      <td>no</td>\n",
       "      <td>no</td>\n",
       "      <td>no</td>\n",
       "      <td>good</td>\n",
       "      <td>no</td>\n",
       "      <td>no</td>\n",
       "      <td>notckd</td>\n",
       "    </tr>\n",
       "    <tr>\n",
       "      <th>396</th>\n",
       "      <td>396</td>\n",
       "      <td>42.0</td>\n",
       "      <td>70.0</td>\n",
       "      <td>1.025</td>\n",
       "      <td>0.0</td>\n",
       "      <td>0.0</td>\n",
       "      <td>normal</td>\n",
       "      <td>normal</td>\n",
       "      <td>notpresent</td>\n",
       "      <td>notpresent</td>\n",
       "      <td>...</td>\n",
       "      <td>54</td>\n",
       "      <td>7800</td>\n",
       "      <td>6.2</td>\n",
       "      <td>no</td>\n",
       "      <td>no</td>\n",
       "      <td>no</td>\n",
       "      <td>good</td>\n",
       "      <td>no</td>\n",
       "      <td>no</td>\n",
       "      <td>notckd</td>\n",
       "    </tr>\n",
       "    <tr>\n",
       "      <th>397</th>\n",
       "      <td>397</td>\n",
       "      <td>12.0</td>\n",
       "      <td>80.0</td>\n",
       "      <td>1.020</td>\n",
       "      <td>0.0</td>\n",
       "      <td>0.0</td>\n",
       "      <td>normal</td>\n",
       "      <td>normal</td>\n",
       "      <td>notpresent</td>\n",
       "      <td>notpresent</td>\n",
       "      <td>...</td>\n",
       "      <td>49</td>\n",
       "      <td>6600</td>\n",
       "      <td>5.4</td>\n",
       "      <td>no</td>\n",
       "      <td>no</td>\n",
       "      <td>no</td>\n",
       "      <td>good</td>\n",
       "      <td>no</td>\n",
       "      <td>no</td>\n",
       "      <td>notckd</td>\n",
       "    </tr>\n",
       "    <tr>\n",
       "      <th>398</th>\n",
       "      <td>398</td>\n",
       "      <td>17.0</td>\n",
       "      <td>60.0</td>\n",
       "      <td>1.025</td>\n",
       "      <td>0.0</td>\n",
       "      <td>0.0</td>\n",
       "      <td>normal</td>\n",
       "      <td>normal</td>\n",
       "      <td>notpresent</td>\n",
       "      <td>notpresent</td>\n",
       "      <td>...</td>\n",
       "      <td>51</td>\n",
       "      <td>7200</td>\n",
       "      <td>5.9</td>\n",
       "      <td>no</td>\n",
       "      <td>no</td>\n",
       "      <td>no</td>\n",
       "      <td>good</td>\n",
       "      <td>no</td>\n",
       "      <td>no</td>\n",
       "      <td>notckd</td>\n",
       "    </tr>\n",
       "    <tr>\n",
       "      <th>399</th>\n",
       "      <td>399</td>\n",
       "      <td>58.0</td>\n",
       "      <td>80.0</td>\n",
       "      <td>1.025</td>\n",
       "      <td>0.0</td>\n",
       "      <td>0.0</td>\n",
       "      <td>normal</td>\n",
       "      <td>normal</td>\n",
       "      <td>notpresent</td>\n",
       "      <td>notpresent</td>\n",
       "      <td>...</td>\n",
       "      <td>53</td>\n",
       "      <td>6800</td>\n",
       "      <td>6.1</td>\n",
       "      <td>no</td>\n",
       "      <td>no</td>\n",
       "      <td>no</td>\n",
       "      <td>good</td>\n",
       "      <td>no</td>\n",
       "      <td>no</td>\n",
       "      <td>notckd</td>\n",
       "    </tr>\n",
       "  </tbody>\n",
       "</table>\n",
       "<p>5 rows × 26 columns</p>\n",
       "</div>"
      ],
      "text/plain": [
       "      id   age    bp     sg   al   su     rbc      pc         pcc          ba  \\\n",
       "395  395  55.0  80.0  1.020  0.0  0.0  normal  normal  notpresent  notpresent   \n",
       "396  396  42.0  70.0  1.025  0.0  0.0  normal  normal  notpresent  notpresent   \n",
       "397  397  12.0  80.0  1.020  0.0  0.0  normal  normal  notpresent  notpresent   \n",
       "398  398  17.0  60.0  1.025  0.0  0.0  normal  normal  notpresent  notpresent   \n",
       "399  399  58.0  80.0  1.025  0.0  0.0  normal  normal  notpresent  notpresent   \n",
       "\n",
       "     ...  pcv    wc   rc  htn  dm  cad appet  pe ane classification  \n",
       "395  ...   47  6700  4.9   no  no   no  good  no  no         notckd  \n",
       "396  ...   54  7800  6.2   no  no   no  good  no  no         notckd  \n",
       "397  ...   49  6600  5.4   no  no   no  good  no  no         notckd  \n",
       "398  ...   51  7200  5.9   no  no   no  good  no  no         notckd  \n",
       "399  ...   53  6800  6.1   no  no   no  good  no  no         notckd  \n",
       "\n",
       "[5 rows x 26 columns]"
      ]
     },
     "execution_count": 5,
     "metadata": {},
     "output_type": "execute_result"
    }
   ],
   "source": [
    "df.tail()"
   ]
  },
  {
   "cell_type": "code",
   "execution_count": 6,
   "id": "3e7f89af",
   "metadata": {
    "id": "cUxJ4CpFsq8N",
    "outputId": "c225d524-d073-4630-c19c-c52095471a7f",
    "papermill": {
     "duration": 0.080431,
     "end_time": "2022-05-09T07:32:49.086243",
     "exception": false,
     "start_time": "2022-05-09T07:32:49.005812",
     "status": "completed"
    },
    "tags": []
   },
   "outputs": [
    {
     "name": "stdout",
     "output_type": "stream",
     "text": [
      "<class 'pandas.core.frame.DataFrame'>\n",
      "RangeIndex: 400 entries, 0 to 399\n",
      "Data columns (total 26 columns):\n",
      " #   Column          Non-Null Count  Dtype  \n",
      "---  ------          --------------  -----  \n",
      " 0   id              400 non-null    int64  \n",
      " 1   age             391 non-null    float64\n",
      " 2   bp              388 non-null    float64\n",
      " 3   sg              353 non-null    float64\n",
      " 4   al              354 non-null    float64\n",
      " 5   su              351 non-null    float64\n",
      " 6   rbc             248 non-null    object \n",
      " 7   pc              335 non-null    object \n",
      " 8   pcc             396 non-null    object \n",
      " 9   ba              396 non-null    object \n",
      " 10  bgr             356 non-null    float64\n",
      " 11  bu              381 non-null    float64\n",
      " 12  sc              383 non-null    float64\n",
      " 13  sod             313 non-null    float64\n",
      " 14  pot             312 non-null    float64\n",
      " 15  hemo            348 non-null    float64\n",
      " 16  pcv             330 non-null    object \n",
      " 17  wc              295 non-null    object \n",
      " 18  rc              270 non-null    object \n",
      " 19  htn             398 non-null    object \n",
      " 20  dm              398 non-null    object \n",
      " 21  cad             398 non-null    object \n",
      " 22  appet           399 non-null    object \n",
      " 23  pe              399 non-null    object \n",
      " 24  ane             399 non-null    object \n",
      " 25  classification  400 non-null    object \n",
      "dtypes: float64(11), int64(1), object(14)\n",
      "memory usage: 81.4+ KB\n"
     ]
    }
   ],
   "source": [
    "df.info()"
   ]
  },
  {
   "cell_type": "markdown",
   "id": "7e5d1ead",
   "metadata": {
    "id": "UqfyPOCYiiww",
    "papermill": {
     "duration": 0.063235,
     "end_time": "2022-05-09T07:32:49.474485",
     "exception": false,
     "start_time": "2022-05-09T07:32:49.411250",
     "status": "completed"
    },
    "tags": []
   },
   "source": [
    "# **Data Pre-processing**"
   ]
  },
  {
   "cell_type": "code",
   "execution_count": 7,
   "id": "ddd690e5",
   "metadata": {
    "id": "3cyr3fbGin0A",
    "outputId": "924ea144-cd50-4d6e-8673-9b5d37b9e222",
    "papermill": {
     "duration": 0.073155,
     "end_time": "2022-05-09T07:32:49.738309",
     "exception": false,
     "start_time": "2022-05-09T07:32:49.665154",
     "status": "completed"
    },
    "tags": []
   },
   "outputs": [
    {
     "data": {
      "text/plain": [
       "id                  0\n",
       "age                 9\n",
       "bp                 12\n",
       "sg                 47\n",
       "al                 46\n",
       "su                 49\n",
       "rbc               152\n",
       "pc                 65\n",
       "pcc                 4\n",
       "ba                  4\n",
       "bgr                44\n",
       "bu                 19\n",
       "sc                 17\n",
       "sod                87\n",
       "pot                88\n",
       "hemo               52\n",
       "pcv                70\n",
       "wc                105\n",
       "rc                130\n",
       "htn                 2\n",
       "dm                  2\n",
       "cad                 2\n",
       "appet               1\n",
       "pe                  1\n",
       "ane                 1\n",
       "classification      0\n",
       "dtype: int64"
      ]
     },
     "execution_count": 7,
     "metadata": {},
     "output_type": "execute_result"
    }
   ],
   "source": [
    "df.isnull().sum() # Checking the null values present in each column."
   ]
  },
  {
   "cell_type": "code",
   "execution_count": 8,
   "id": "bd656c32",
   "metadata": {
    "id": "U6vbOBrsUweH",
    "outputId": "96841208-f772-4451-e931-675d39e564a3",
    "papermill": {
     "duration": 0.082292,
     "end_time": "2022-05-09T07:32:53.762724",
     "exception": false,
     "start_time": "2022-05-09T07:32:53.680432",
     "status": "completed"
    },
    "tags": []
   },
   "outputs": [
    {
     "data": {
      "text/plain": [
       "False    400\n",
       "dtype: int64"
      ]
     },
     "execution_count": 8,
     "metadata": {},
     "output_type": "execute_result"
    }
   ],
   "source": [
    "df.duplicated().value_counts() # duplicated function checks the duplicate values present in the dataset"
   ]
  },
  {
   "cell_type": "code",
   "execution_count": 9,
   "id": "d55286cf-5f08-477d-9366-8a14351be291",
   "metadata": {},
   "outputs": [
    {
     "data": {
      "text/plain": [
       "9"
      ]
     },
     "execution_count": 9,
     "metadata": {},
     "output_type": "execute_result"
    }
   ],
   "source": [
    "df[\"age\"].isnull().sum() # Checking the null values in the age column"
   ]
  },
  {
   "cell_type": "code",
   "execution_count": 10,
   "id": "4bc01307-667c-4930-abe7-c85b30c3b302",
   "metadata": {},
   "outputs": [],
   "source": [
    "df[\"age\"]=df[\"age\"].fillna(df[\"age\"].mean())  # filling the null values with the age column mean"
   ]
  },
  {
   "cell_type": "code",
   "execution_count": 11,
   "id": "cd7597bd-cc3f-4b48-bde8-69fe8156ebf5",
   "metadata": {},
   "outputs": [
    {
     "data": {
      "text/plain": [
       "0"
      ]
     },
     "execution_count": 11,
     "metadata": {},
     "output_type": "execute_result"
    }
   ],
   "source": [
    "df[\"age\"].isnull().sum() # Re-Checking the null values in the age column"
   ]
  },
  {
   "cell_type": "code",
   "execution_count": 12,
   "id": "0750d0ad-8f8e-471c-82df-f2a5997f8184",
   "metadata": {},
   "outputs": [
    {
     "name": "stdout",
     "output_type": "stream",
     "text": [
      "<class 'pandas.core.frame.DataFrame'>\n",
      "RangeIndex: 400 entries, 0 to 399\n",
      "Data columns (total 26 columns):\n",
      " #   Column          Non-Null Count  Dtype  \n",
      "---  ------          --------------  -----  \n",
      " 0   id              400 non-null    int64  \n",
      " 1   age             400 non-null    float64\n",
      " 2   bp              388 non-null    float64\n",
      " 3   sg              353 non-null    float64\n",
      " 4   al              354 non-null    float64\n",
      " 5   su              351 non-null    float64\n",
      " 6   rbc             248 non-null    object \n",
      " 7   pc              335 non-null    object \n",
      " 8   pcc             396 non-null    object \n",
      " 9   ba              396 non-null    object \n",
      " 10  bgr             356 non-null    float64\n",
      " 11  bu              381 non-null    float64\n",
      " 12  sc              383 non-null    float64\n",
      " 13  sod             313 non-null    float64\n",
      " 14  pot             312 non-null    float64\n",
      " 15  hemo            348 non-null    float64\n",
      " 16  pcv             330 non-null    object \n",
      " 17  wc              295 non-null    object \n",
      " 18  rc              270 non-null    object \n",
      " 19  htn             398 non-null    object \n",
      " 20  dm              398 non-null    object \n",
      " 21  cad             398 non-null    object \n",
      " 22  appet           399 non-null    object \n",
      " 23  pe              399 non-null    object \n",
      " 24  ane             399 non-null    object \n",
      " 25  classification  400 non-null    object \n",
      "dtypes: float64(11), int64(1), object(14)\n",
      "memory usage: 81.4+ KB\n"
     ]
    }
   ],
   "source": [
    "df.info()"
   ]
  },
  {
   "cell_type": "code",
   "execution_count": 13,
   "id": "485de9e2",
   "metadata": {
    "papermill": {
     "duration": 0.077352,
     "end_time": "2022-05-09T07:32:54.196943",
     "exception": false,
     "start_time": "2022-05-09T07:32:54.119591",
     "status": "completed"
    },
    "tags": []
   },
   "outputs": [
    {
     "data": {
      "text/plain": [
       "array(['ckd', 'ckd\\t', 'notckd'], dtype=object)"
      ]
     },
     "execution_count": 13,
     "metadata": {},
     "output_type": "execute_result"
    }
   ],
   "source": [
    "df['classification'].unique()  ## checks the unique values in the classification"
   ]
  },
  {
   "cell_type": "markdown",
   "id": "f5e682b5-fac1-4f4e-9d92-8d692200fcc7",
   "metadata": {},
   "source": [
    "#### It seems there are some mis-classifcation which is ckd\\t, the value represents it as ckd so we are changing the ckd\\t to ckd"
   ]
  },
  {
   "cell_type": "code",
   "execution_count": 14,
   "id": "9b23cb48-0f01-4d82-942d-1c4b0e3db9ca",
   "metadata": {},
   "outputs": [
    {
     "data": {
      "text/html": [
       "<div>\n",
       "<style scoped>\n",
       "    .dataframe tbody tr th:only-of-type {\n",
       "        vertical-align: middle;\n",
       "    }\n",
       "\n",
       "    .dataframe tbody tr th {\n",
       "        vertical-align: top;\n",
       "    }\n",
       "\n",
       "    .dataframe thead th {\n",
       "        text-align: right;\n",
       "    }\n",
       "</style>\n",
       "<table border=\"1\" class=\"dataframe\">\n",
       "  <thead>\n",
       "    <tr style=\"text-align: right;\">\n",
       "      <th></th>\n",
       "      <th>id</th>\n",
       "      <th>age</th>\n",
       "      <th>bp</th>\n",
       "      <th>sg</th>\n",
       "      <th>al</th>\n",
       "      <th>su</th>\n",
       "      <th>rbc</th>\n",
       "      <th>pc</th>\n",
       "      <th>pcc</th>\n",
       "      <th>ba</th>\n",
       "      <th>...</th>\n",
       "      <th>pcv</th>\n",
       "      <th>wc</th>\n",
       "      <th>rc</th>\n",
       "      <th>htn</th>\n",
       "      <th>dm</th>\n",
       "      <th>cad</th>\n",
       "      <th>appet</th>\n",
       "      <th>pe</th>\n",
       "      <th>ane</th>\n",
       "      <th>classification</th>\n",
       "    </tr>\n",
       "  </thead>\n",
       "  <tbody>\n",
       "    <tr>\n",
       "      <th>37</th>\n",
       "      <td>37</td>\n",
       "      <td>72.0</td>\n",
       "      <td>80.0</td>\n",
       "      <td>NaN</td>\n",
       "      <td>NaN</td>\n",
       "      <td>NaN</td>\n",
       "      <td>NaN</td>\n",
       "      <td>NaN</td>\n",
       "      <td>notpresent</td>\n",
       "      <td>notpresent</td>\n",
       "      <td>...</td>\n",
       "      <td>28</td>\n",
       "      <td>6900</td>\n",
       "      <td>2.5</td>\n",
       "      <td>yes</td>\n",
       "      <td>yes</td>\n",
       "      <td>no</td>\n",
       "      <td>poor</td>\n",
       "      <td>no</td>\n",
       "      <td>yes</td>\n",
       "      <td>ckd\\t</td>\n",
       "    </tr>\n",
       "    <tr>\n",
       "      <th>230</th>\n",
       "      <td>230</td>\n",
       "      <td>65.0</td>\n",
       "      <td>60.0</td>\n",
       "      <td>1.01</td>\n",
       "      <td>2.0</td>\n",
       "      <td>0.0</td>\n",
       "      <td>normal</td>\n",
       "      <td>abnormal</td>\n",
       "      <td>present</td>\n",
       "      <td>notpresent</td>\n",
       "      <td>...</td>\n",
       "      <td>NaN</td>\n",
       "      <td>9500</td>\n",
       "      <td>NaN</td>\n",
       "      <td>yes</td>\n",
       "      <td>yes</td>\n",
       "      <td>no</td>\n",
       "      <td>poor</td>\n",
       "      <td>no</td>\n",
       "      <td>no</td>\n",
       "      <td>ckd\\t</td>\n",
       "    </tr>\n",
       "  </tbody>\n",
       "</table>\n",
       "<p>2 rows × 26 columns</p>\n",
       "</div>"
      ],
      "text/plain": [
       "      id   age    bp    sg   al   su     rbc        pc         pcc  \\\n",
       "37    37  72.0  80.0   NaN  NaN  NaN     NaN       NaN  notpresent   \n",
       "230  230  65.0  60.0  1.01  2.0  0.0  normal  abnormal     present   \n",
       "\n",
       "             ba  ...  pcv    wc   rc  htn   dm  cad appet  pe  ane  \\\n",
       "37   notpresent  ...   28  6900  2.5  yes  yes   no  poor  no  yes   \n",
       "230  notpresent  ...  NaN  9500  NaN  yes  yes   no  poor  no   no   \n",
       "\n",
       "    classification  \n",
       "37           ckd\\t  \n",
       "230          ckd\\t  \n",
       "\n",
       "[2 rows x 26 columns]"
      ]
     },
     "execution_count": 14,
     "metadata": {},
     "output_type": "execute_result"
    }
   ],
   "source": [
    "df[df[\"classification\"]==\"ckd\\t\"]  #checking which row's have this classification"
   ]
  },
  {
   "cell_type": "code",
   "execution_count": 15,
   "id": "8714f170-99c9-4c90-aa2a-382cc1e1eb23",
   "metadata": {},
   "outputs": [],
   "source": [
    "df[\"classification\"]=df[\"classification\"].replace(\"ckd\\t\",\"ckd\",regex=True) ## Replacing the classifcation ckd\\t to ckd"
   ]
  },
  {
   "cell_type": "code",
   "execution_count": 16,
   "id": "0967d7a2-bfde-4f56-b561-53135fc9b791",
   "metadata": {},
   "outputs": [
    {
     "data": {
      "text/plain": [
       "ckd       250\n",
       "notckd    150\n",
       "Name: classification, dtype: int64"
      ]
     },
     "execution_count": 16,
     "metadata": {},
     "output_type": "execute_result"
    }
   ],
   "source": [
    "# rechecking the unique values \n",
    "df['classification'].value_counts()"
   ]
  },
  {
   "cell_type": "markdown",
   "id": "2bf39cd5",
   "metadata": {
    "papermill": {
     "duration": 0.072234,
     "end_time": "2022-05-09T07:32:55.429814",
     "exception": false,
     "start_time": "2022-05-09T07:32:55.357580",
     "status": "completed"
    },
    "tags": []
   },
   "source": [
    "### Null values handling with median and mode"
   ]
  },
  {
   "cell_type": "code",
   "execution_count": 17,
   "id": "2ecc61e4-7cac-4c03-b8cc-da5f82a4ad34",
   "metadata": {},
   "outputs": [],
   "source": [
    "# Fill missing values for numerical columns with the median\n",
    "numerical_columns = df.select_dtypes(include=['float64']).columns\n",
    "for column in numerical_columns:\n",
    "    df[column].fillna(df[column].median(), inplace=True)\n",
    "\n",
    "# Fill missing values for non-numerical columns with the mode\n",
    "non_numerical_columns = df.select_dtypes(exclude=['float64', 'int64']).columns\n",
    "for column in non_numerical_columns:\n",
    "    df[column].fillna(df[column].mode()[0], inplace=True)"
   ]
  },
  {
   "cell_type": "code",
   "execution_count": 18,
   "id": "333f9513-e681-4bfa-862e-d05e18efed0b",
   "metadata": {},
   "outputs": [
    {
     "name": "stdout",
     "output_type": "stream",
     "text": [
      "<class 'pandas.core.frame.DataFrame'>\n",
      "RangeIndex: 400 entries, 0 to 399\n",
      "Data columns (total 26 columns):\n",
      " #   Column          Non-Null Count  Dtype  \n",
      "---  ------          --------------  -----  \n",
      " 0   id              400 non-null    int64  \n",
      " 1   age             400 non-null    float64\n",
      " 2   bp              400 non-null    float64\n",
      " 3   sg              400 non-null    float64\n",
      " 4   al              400 non-null    float64\n",
      " 5   su              400 non-null    float64\n",
      " 6   rbc             400 non-null    object \n",
      " 7   pc              400 non-null    object \n",
      " 8   pcc             400 non-null    object \n",
      " 9   ba              400 non-null    object \n",
      " 10  bgr             400 non-null    float64\n",
      " 11  bu              400 non-null    float64\n",
      " 12  sc              400 non-null    float64\n",
      " 13  sod             400 non-null    float64\n",
      " 14  pot             400 non-null    float64\n",
      " 15  hemo            400 non-null    float64\n",
      " 16  pcv             400 non-null    object \n",
      " 17  wc              400 non-null    object \n",
      " 18  rc              400 non-null    object \n",
      " 19  htn             400 non-null    object \n",
      " 20  dm              400 non-null    object \n",
      " 21  cad             400 non-null    object \n",
      " 22  appet           400 non-null    object \n",
      " 23  pe              400 non-null    object \n",
      " 24  ane             400 non-null    object \n",
      " 25  classification  400 non-null    object \n",
      "dtypes: float64(11), int64(1), object(14)\n",
      "memory usage: 81.4+ KB\n"
     ]
    }
   ],
   "source": [
    "df.info()"
   ]
  },
  {
   "cell_type": "code",
   "execution_count": 19,
   "id": "081d9424-7272-46cc-995a-ebdc8bd67578",
   "metadata": {},
   "outputs": [
    {
     "data": {
      "text/plain": [
       "id                0\n",
       "age               0\n",
       "bp                0\n",
       "sg                0\n",
       "al                0\n",
       "su                0\n",
       "rbc               0\n",
       "pc                0\n",
       "pcc               0\n",
       "ba                0\n",
       "bgr               0\n",
       "bu                0\n",
       "sc                0\n",
       "sod               0\n",
       "pot               0\n",
       "hemo              0\n",
       "pcv               0\n",
       "wc                0\n",
       "rc                0\n",
       "htn               0\n",
       "dm                0\n",
       "cad               0\n",
       "appet             0\n",
       "pe                0\n",
       "ane               0\n",
       "classification    0\n",
       "dtype: int64"
      ]
     },
     "execution_count": 19,
     "metadata": {},
     "output_type": "execute_result"
    }
   ],
   "source": [
    "df.isnull().sum() ## re-checking the null values in each column"
   ]
  },
  {
   "cell_type": "markdown",
   "id": "f095339f",
   "metadata": {
    "papermill": {
     "duration": 0.072093,
     "end_time": "2022-05-09T07:32:55.738173",
     "exception": false,
     "start_time": "2022-05-09T07:32:55.666080",
     "status": "completed"
    },
    "tags": []
   },
   "source": [
    "### Encoding the labels which converts the object data type to numerical "
   ]
  },
  {
   "cell_type": "code",
   "execution_count": 20,
   "id": "45f9470a-24d5-462c-b946-27df055f144e",
   "metadata": {},
   "outputs": [
    {
     "name": "stdout",
     "output_type": "stream",
     "text": [
      "--- rbc ---\n",
      "normal      353\n",
      "abnormal     47\n",
      "Name: rbc, dtype: int64\n",
      "normal      353\n",
      "abnormal     47\n",
      "Name: rbc, dtype: int64\n",
      "\n",
      "\n",
      "--- pc ---\n",
      "normal      324\n",
      "abnormal     76\n",
      "Name: pc, dtype: int64\n",
      "normal      324\n",
      "abnormal     76\n",
      "Name: pc, dtype: int64\n",
      "\n",
      "\n",
      "--- pcc ---\n",
      "notpresent    358\n",
      "present        42\n",
      "Name: pcc, dtype: int64\n",
      "notpresent    358\n",
      "present        42\n",
      "Name: pcc, dtype: int64\n",
      "\n",
      "\n",
      "--- ba ---\n",
      "notpresent    378\n",
      "present        22\n",
      "Name: ba, dtype: int64\n",
      "notpresent    378\n",
      "present        22\n",
      "Name: ba, dtype: int64\n",
      "\n",
      "\n",
      "--- pcv ---\n",
      "41    91\n",
      "52    21\n",
      "44    19\n",
      "48    19\n",
      "40    16\n",
      "Name: pcv, dtype: int64\n",
      "18     1\n",
      "9      1\n",
      "\\t?    1\n",
      "16     1\n",
      "14     1\n",
      "Name: pcv, dtype: int64\n",
      "\n",
      "\n",
      "--- wc ---\n",
      "9800    116\n",
      "6700     10\n",
      "9600      9\n",
      "7200      9\n",
      "9200      9\n",
      "Name: wc, dtype: int64\n",
      "19100    1\n",
      "\\t?      1\n",
      "12300    1\n",
      "14900    1\n",
      "12700    1\n",
      "Name: wc, dtype: int64\n",
      "\n",
      "\n",
      "--- rc ---\n",
      "5.2    148\n",
      "4.5     16\n",
      "4.9     14\n",
      "4.7     11\n",
      "4.8     10\n",
      "Name: rc, dtype: int64\n",
      "2.3    1\n",
      "\\t?    1\n",
      "2.4    1\n",
      "3      1\n",
      "8.0    1\n",
      "Name: rc, dtype: int64\n",
      "\n",
      "\n",
      "--- htn ---\n",
      "no     253\n",
      "yes    147\n",
      "Name: htn, dtype: int64\n",
      "no     253\n",
      "yes    147\n",
      "Name: htn, dtype: int64\n",
      "\n",
      "\n",
      "--- dm ---\n",
      "no       260\n",
      "yes      134\n",
      "\\tno       3\n",
      "\\tyes      2\n",
      " yes       1\n",
      "Name: dm, dtype: int64\n",
      "no       260\n",
      "yes      134\n",
      "\\tno       3\n",
      "\\tyes      2\n",
      " yes       1\n",
      "Name: dm, dtype: int64\n",
      "\n",
      "\n",
      "--- cad ---\n",
      "no      364\n",
      "yes      34\n",
      "\\tno      2\n",
      "Name: cad, dtype: int64\n",
      "no      364\n",
      "yes      34\n",
      "\\tno      2\n",
      "Name: cad, dtype: int64\n",
      "\n",
      "\n",
      "--- appet ---\n",
      "good    318\n",
      "poor     82\n",
      "Name: appet, dtype: int64\n",
      "good    318\n",
      "poor     82\n",
      "Name: appet, dtype: int64\n",
      "\n",
      "\n",
      "--- pe ---\n",
      "no     324\n",
      "yes     76\n",
      "Name: pe, dtype: int64\n",
      "no     324\n",
      "yes     76\n",
      "Name: pe, dtype: int64\n",
      "\n",
      "\n",
      "--- ane ---\n",
      "no     340\n",
      "yes     60\n",
      "Name: ane, dtype: int64\n",
      "no     340\n",
      "yes     60\n",
      "Name: ane, dtype: int64\n",
      "\n",
      "\n",
      "--- classification ---\n",
      "ckd       250\n",
      "notckd    150\n",
      "Name: classification, dtype: int64\n",
      "ckd       250\n",
      "notckd    150\n",
      "Name: classification, dtype: int64\n",
      "\n",
      "\n"
     ]
    }
   ],
   "source": [
    "# Selects the object-type columns\n",
    "object_columns = df.select_dtypes(include='object').columns\n",
    "\n",
    "# Print the head and tail of the value counts for each object-type column\n",
    "for column in object_columns:\n",
    "    print(f\"--- {column} ---\")\n",
    "    print(df[column].value_counts().head())  # Display the first few value counts\n",
    "    print(df[column].value_counts().tail())  # Display the last few value counts\n",
    "    print(\"\\n\")"
   ]
  },
  {
   "cell_type": "markdown",
   "id": "1daa22ba-6b06-43af-a2bc-2e8909612cb2",
   "metadata": {},
   "source": [
    "#### it seems there are some spaces and wrongly mentioned classificaitions of various columns, will check the columns effecting and will fix them"
   ]
  },
  {
   "cell_type": "code",
   "execution_count": 21,
   "id": "36693557-5ddf-49f7-aef2-b9c43e5a19b9",
   "metadata": {},
   "outputs": [
    {
     "name": "stdout",
     "output_type": "stream",
     "text": [
      "Column 'rbc' has no leading/trailing spaces.\n",
      "Column 'pc' has no leading/trailing spaces.\n",
      "Column 'pcc' has no leading/trailing spaces.\n",
      "Column 'ba' has no leading/trailing spaces.\n",
      "Column 'pcv' has leading/trailing spaces in the following rows:\n",
      "66      \\t?\n",
      "214    \\t43\n",
      "Name: pcv, dtype: object\n",
      "Column 'wc' has leading/trailing spaces in the following rows:\n",
      "76     \\t6200\n",
      "133    \\t8400\n",
      "185       \\t?\n",
      "Name: wc, dtype: object\n",
      "Column 'rc' has leading/trailing spaces in the following rows:\n",
      "162    \\t?\n",
      "Name: rc, dtype: object\n",
      "Column 'htn' has no leading/trailing spaces.\n",
      "Column 'dm' has leading/trailing spaces in the following rows:\n",
      "30       yes\n",
      "65      \\tno\n",
      "88     \\tyes\n",
      "138     \\tno\n",
      "188     \\tno\n",
      "194    \\tyes\n",
      "Name: dm, dtype: object\n",
      "Column 'cad' has leading/trailing spaces in the following rows:\n",
      "40    \\tno\n",
      "64    \\tno\n",
      "Name: cad, dtype: object\n",
      "Column 'appet' has no leading/trailing spaces.\n",
      "Column 'pe' has no leading/trailing spaces.\n",
      "Column 'ane' has no leading/trailing spaces.\n",
      "Column 'classification' has no leading/trailing spaces.\n"
     ]
    }
   ],
   "source": [
    "# Function to check for leading/trailing whitespace in object columns\n",
    "def check_for_spaces(df):\n",
    "    space_report = {}\n",
    "    for col in df.select_dtypes(include='object').columns:\n",
    "        # Strip leading/trailing whitespace and compare with the original string\n",
    "        trimmed = df[col].str.strip()\n",
    "        mask = df[col] != trimmed\n",
    "        # Report the rows with leading/trailing whitespace\n",
    "        space_report[col] = df.loc[mask, col]\n",
    "    return space_report\n",
    "\n",
    "# Check the dataframe for spaces\n",
    "report_with_spaces = check_for_spaces(df)\n",
    "\n",
    "# Output the report\n",
    "for column, values in report_with_spaces.items():\n",
    "    if not values.empty:\n",
    "        print(f\"Column '{column}' has leading/trailing spaces in the following rows:\")\n",
    "        print(values)\n",
    "    else:\n",
    "        print(f\"Column '{column}' has no leading/trailing spaces.\")"
   ]
  },
  {
   "cell_type": "markdown",
   "id": "ba960f4a-4ef3-4abb-9933-2c4780973f93",
   "metadata": {
    "papermill": {
     "duration": 0.09034,
     "end_time": "2022-05-09T07:32:56.079528",
     "exception": false,
     "start_time": "2022-05-09T07:32:55.989188",
     "status": "completed"
    },
    "tags": []
   },
   "source": [
    "#### Let's fix by stipping the whitespaces and correcting the values"
   ]
  },
  {
   "cell_type": "code",
   "execution_count": 22,
   "id": "c85e65a0-9b8a-4e87-a29b-157f0ce093dd",
   "metadata": {},
   "outputs": [],
   "source": [
    "# Correcting 'dm' and 'cad' columns by removing whitespaces and replacing with correct labels\n",
    "df['dm'] = df['dm'].str.strip().replace({'\\tno': 'no', '\\tyes': 'yes', ' yes': 'yes'})\n",
    "df['cad'] = df['cad'].str.strip().replace({'\\tno': 'no'})"
   ]
  },
  {
   "cell_type": "code",
   "execution_count": 23,
   "id": "f4b7f76c-135e-4c0b-bbe9-0cf2c1072ec9",
   "metadata": {},
   "outputs": [
    {
     "data": {
      "text/plain": [
       "no     263\n",
       "yes    137\n",
       "Name: dm, dtype: int64"
      ]
     },
     "execution_count": 23,
     "metadata": {},
     "output_type": "execute_result"
    }
   ],
   "source": [
    "### let's check wethere it is fixed dm and cad columns or not \n",
    "df['dm'].value_counts()"
   ]
  },
  {
   "cell_type": "code",
   "execution_count": 24,
   "id": "1c2c5e55-9a02-4992-9394-26f1e68f207f",
   "metadata": {},
   "outputs": [
    {
     "data": {
      "text/plain": [
       "no     366\n",
       "yes     34\n",
       "Name: cad, dtype: int64"
      ]
     },
     "execution_count": 24,
     "metadata": {},
     "output_type": "execute_result"
    }
   ],
   "source": [
    "df['cad'].value_counts()"
   ]
  },
  {
   "cell_type": "markdown",
   "id": "7ac8a65e-f6a3-4f41-96b2-153a3133853f",
   "metadata": {},
   "source": [
    "#### Let's do manual encoding for all the object class columns since LabelEncoder from sklearn will encode the object classes alphabetically whcih can mislead the postivies and negatives since some of the object columns has their own way of mentioning the positive and negative for example rbc and pc has denoted as normal and abnormal and pcc, ba has present and not present. htn, dm, cad, pe, ane columns as yes and no respectively and classification has ckd and notckd ###"
   ]
  },
  {
   "cell_type": "code",
   "execution_count": 25,
   "id": "5d70891f-25da-4e2f-8ef5-574d386d1045",
   "metadata": {},
   "outputs": [],
   "source": [
    "# Convert 'pcv', 'wc', and 'rc' to numeric, coercing errors to NaN\n",
    "df['pcv'] = pd.to_numeric(df['pcv'], errors='coerce')\n",
    "df['wc'] = pd.to_numeric(df['wc'], errors='coerce')\n",
    "df['rc'] = pd.to_numeric(df['rc'], errors='coerce')\n",
    "\n",
    "# Fill NaN values in 'pcv', 'wc', and 'rc' after conversion\n",
    "df['pcv'].fillna(df['pcv'].median(), inplace=True)\n",
    "df['wc'].fillna(df['wc'].median(), inplace=True)\n",
    "df['rc'].fillna(df['rc'].median(), inplace=True)"
   ]
  },
  {
   "cell_type": "code",
   "execution_count": 26,
   "id": "3e0f9d9f-c479-4872-810c-8e210e06e20a",
   "metadata": {},
   "outputs": [
    {
     "name": "stdout",
     "output_type": "stream",
     "text": [
      "<class 'pandas.core.frame.DataFrame'>\n",
      "RangeIndex: 400 entries, 0 to 399\n",
      "Data columns (total 26 columns):\n",
      " #   Column          Non-Null Count  Dtype  \n",
      "---  ------          --------------  -----  \n",
      " 0   id              400 non-null    int64  \n",
      " 1   age             400 non-null    float64\n",
      " 2   bp              400 non-null    float64\n",
      " 3   sg              400 non-null    float64\n",
      " 4   al              400 non-null    float64\n",
      " 5   su              400 non-null    float64\n",
      " 6   rbc             400 non-null    object \n",
      " 7   pc              400 non-null    object \n",
      " 8   pcc             400 non-null    object \n",
      " 9   ba              400 non-null    object \n",
      " 10  bgr             400 non-null    float64\n",
      " 11  bu              400 non-null    float64\n",
      " 12  sc              400 non-null    float64\n",
      " 13  sod             400 non-null    float64\n",
      " 14  pot             400 non-null    float64\n",
      " 15  hemo            400 non-null    float64\n",
      " 16  pcv             400 non-null    float64\n",
      " 17  wc              400 non-null    float64\n",
      " 18  rc              400 non-null    float64\n",
      " 19  htn             400 non-null    object \n",
      " 20  dm              400 non-null    object \n",
      " 21  cad             400 non-null    object \n",
      " 22  appet           400 non-null    object \n",
      " 23  pe              400 non-null    object \n",
      " 24  ane             400 non-null    object \n",
      " 25  classification  400 non-null    object \n",
      "dtypes: float64(14), int64(1), object(11)\n",
      "memory usage: 81.4+ KB\n"
     ]
    }
   ],
   "source": [
    "df.info()"
   ]
  },
  {
   "cell_type": "code",
   "execution_count": 27,
   "id": "953f9a60-3fb1-4769-8fc1-63feb8b4adb8",
   "metadata": {},
   "outputs": [],
   "source": [
    "# Apply manual encoding for categorical columns\n",
    "df['rbc'] = df['rbc'].map({'normal': 0, 'abnormal': 1})\n",
    "df['pc'] = df['pc'].map({'normal': 0, 'abnormal': 1})\n",
    "df['pcc'] = df['pcc'].map({'notpresent': 0, 'present': 1})\n",
    "df['ba'] = df['ba'].map({'notpresent': 0, 'present': 1})\n",
    "df['appet'] = df['appet'].map({'poor': 0, 'good': 1})\n",
    "df['htn'] = df['htn'].map({'no': 0, 'yes': 1})\n",
    "df['dm'] = df['dm'].map({'no': 0, 'yes': 1})\n",
    "df['cad'] = df['cad'].map({'no': 0, 'yes': 1})\n",
    "df['pe'] = df['pe'].map({'no': 0, 'yes': 1})\n",
    "df['ane'] = df['ane'].map({'no': 0, 'yes': 1})\n",
    "\n",
    "# Manually encoding the 'classification' column\n",
    "df['classification'] = df['classification'].map({'ckd': 1, 'notckd': 0})"
   ]
  },
  {
   "cell_type": "code",
   "execution_count": 28,
   "id": "50a11eda-4292-44bd-93b3-bef6df37974d",
   "metadata": {},
   "outputs": [
    {
     "name": "stdout",
     "output_type": "stream",
     "text": [
      "<class 'pandas.core.frame.DataFrame'>\n",
      "RangeIndex: 400 entries, 0 to 399\n",
      "Data columns (total 26 columns):\n",
      " #   Column          Non-Null Count  Dtype  \n",
      "---  ------          --------------  -----  \n",
      " 0   id              400 non-null    int64  \n",
      " 1   age             400 non-null    float64\n",
      " 2   bp              400 non-null    float64\n",
      " 3   sg              400 non-null    float64\n",
      " 4   al              400 non-null    float64\n",
      " 5   su              400 non-null    float64\n",
      " 6   rbc             400 non-null    int64  \n",
      " 7   pc              400 non-null    int64  \n",
      " 8   pcc             400 non-null    int64  \n",
      " 9   ba              400 non-null    int64  \n",
      " 10  bgr             400 non-null    float64\n",
      " 11  bu              400 non-null    float64\n",
      " 12  sc              400 non-null    float64\n",
      " 13  sod             400 non-null    float64\n",
      " 14  pot             400 non-null    float64\n",
      " 15  hemo            400 non-null    float64\n",
      " 16  pcv             400 non-null    float64\n",
      " 17  wc              400 non-null    float64\n",
      " 18  rc              400 non-null    float64\n",
      " 19  htn             400 non-null    int64  \n",
      " 20  dm              400 non-null    int64  \n",
      " 21  cad             400 non-null    int64  \n",
      " 22  appet           400 non-null    int64  \n",
      " 23  pe              400 non-null    int64  \n",
      " 24  ane             400 non-null    int64  \n",
      " 25  classification  400 non-null    int64  \n",
      "dtypes: float64(14), int64(12)\n",
      "memory usage: 81.4 KB\n"
     ]
    }
   ],
   "source": [
    "df.info()"
   ]
  },
  {
   "cell_type": "markdown",
   "id": "435b4e15-75e9-46aa-beef-b6adb29dddb9",
   "metadata": {},
   "source": [
    "#### let's now check the unique values of each object column to make sure encoding is done properly"
   ]
  },
  {
   "cell_type": "code",
   "execution_count": 29,
   "id": "850e1838-2f9c-4832-9af1-fe37eabe5af1",
   "metadata": {},
   "outputs": [
    {
     "name": "stdout",
     "output_type": "stream",
     "text": [
      "Unique values in 'rbc': [0 1]\n",
      "Unique values in 'pc': [0 1]\n",
      "Unique values in 'pcc': [0 1]\n",
      "Unique values in 'htn': [1 0]\n",
      "Unique values in 'dm': [1 0]\n",
      "Unique values in 'cad': [0 1]\n",
      "Unique values in 'pe': [0 1]\n",
      "Unique values in 'ane': [0 1]\n",
      "Unique values in 'classification': [1 0]\n"
     ]
    }
   ],
   "source": [
    "# List of columns to check\n",
    "columns_to_check = ['rbc', 'pc', 'pcc', 'htn', 'dm', 'cad', 'pe', 'ane', 'classification']\n",
    "\n",
    "# Print unique values for each column\n",
    "for col in columns_to_check:\n",
    "    print(f\"Unique values in '{col}': {df[col].unique()}\")"
   ]
  },
  {
   "cell_type": "markdown",
   "id": "729fa702",
   "metadata": {
    "papermill": {
     "duration": 0.074109,
     "end_time": "2022-05-09T07:32:56.553731",
     "exception": false,
     "start_time": "2022-05-09T07:32:56.479622",
     "status": "completed"
    },
    "tags": []
   },
   "source": [
    "# **Data Correlation Analysis and Visualization**"
   ]
  },
  {
   "cell_type": "markdown",
   "id": "44f2892a-6f61-4ecd-91e9-87e8bb753ccd",
   "metadata": {},
   "source": [
    "### Blood Urea vs CKD"
   ]
  },
  {
   "cell_type": "markdown",
   "id": "ba2b1e9f",
   "metadata": {
    "papermill": {
     "duration": 0.073928,
     "end_time": "2022-05-09T07:32:56.702589",
     "exception": false,
     "start_time": "2022-05-09T07:32:56.628661",
     "status": "completed"
    },
    "tags": []
   },
   "source": [
    "##### *Normal  range of the blood urea is between 15 to 40, if the blood urea is high then the chances of the kidney failure increases can be seen  from the scatter plot*"
   ]
  },
  {
   "cell_type": "code",
   "execution_count": 30,
   "id": "425dffce-e880-4edd-8ffc-91c09e853d7a",
   "metadata": {},
   "outputs": [
    {
     "data": {
      "image/png": "[encoded data removed]",
      "text/plain": [
       "<Figure size 600x400 with 2 Axes>"
      ]
     },
     "metadata": {},
     "output_type": "display_data"
    }
   ],
   "source": [
    "# DataFrame that contains only the 'sc' serum creatinine and 'classification' ckd and not-ckd columns\n",
    "subset_df = df[['sc', 'classification']]\n",
    "\n",
    "# Calculate the correlation matrix for these two variables\n",
    "corr_matrix = subset_df.corr()\n",
    "\n",
    "# Create a heatmap to visualize the correlation\n",
    "plt.figure(figsize=(6, 4))\n",
    "sns.heatmap(corr_matrix, annot=True, cmap='coolwarm', square=True, cbar=True)\n",
    "plt.title('Correlation between Serum Creatinine and CKD Classification')\n",
    "\n",
    "plt.show()"
   ]
  },
  {
   "cell_type": "code",
   "execution_count": 31,
   "id": "64e7c383-b5a5-43f7-8c71-52c18c5a81af",
   "metadata": {},
   "outputs": [
    {
     "data": {
      "image/png": "[encoded data removed]",
      "text/plain": [
       "<Figure size 500x300 with 1 Axes>"
      ]
     },
     "metadata": {},
     "output_type": "display_data"
    }
   ],
   "source": [
    "import matplotlib.pyplot as plt\n",
    "import seaborn as sns\n",
    "\n",
    "# Create a scatter plot\n",
    "plt.figure(figsize=(5, 3))\n",
    "sns.scatterplot(x='bu', y='classification', data=df, alpha=0.6)\n",
    "\n",
    "plt.title('Blood Urea Level vs. Kidney Failure Classification')\n",
    "plt.xlabel('Blood Urea Level')\n",
    "plt.ylabel('Kidney Failure (1 for CKD, 0 for not CKD)')\n",
    "plt.axvline(x=40, color='r', linestyle='--', label='Increased Risk Threshold (>40)')\n",
    "\n",
    "plt.legend()\n",
    "plt.show()"
   ]
  },
  {
   "cell_type": "markdown",
   "id": "9358e030-4fc0-4e12-adb1-3dc6b2adc69f",
   "metadata": {},
   "source": [
    "### Serum Creatinine vs CKD"
   ]
  },
  {
   "cell_type": "markdown",
   "id": "12cbf1c9",
   "metadata": {
    "papermill": {
     "duration": 0.075285,
     "end_time": "2022-05-09T07:32:57.215777",
     "exception": false,
     "start_time": "2022-05-09T07:32:57.140492",
     "status": "completed"
    },
    "tags": []
   },
   "source": [
    "##### The normal range of the serum creatine is 0.5 to 1.5 if the serum creatinine is above the normal range, there will be a higher chance of ckd, let's check this with visualization"
   ]
  },
  {
   "cell_type": "code",
   "execution_count": 32,
   "id": "59f8ab5f-bc78-45de-a11b-02f54d8b58e7",
   "metadata": {},
   "outputs": [
    {
     "data": {
      "image/png": "[encoded data removed]",
      "text/plain": [
       "<Figure size 600x400 with 2 Axes>"
      ]
     },
     "metadata": {},
     "output_type": "display_data"
    }
   ],
   "source": [
    "import matplotlib.pyplot as plt\n",
    "import seaborn as sns\n",
    "\n",
    "# Calculate the correlation matrix for 'sc' and 'classification'\n",
    "corr_matrix = df[['sc', 'classification']].corr()\n",
    "\n",
    "#heatmap to visualize the correlation\n",
    "plt.figure(figsize=(6, 4))\n",
    "sns.heatmap(corr_matrix, annot=True, cmap='coolwarm', cbar=True, square=True)\n",
    "plt.title('Correlation between Serum Creatinine and CKD Classification')\n",
    "plt.show()"
   ]
  },
  {
   "cell_type": "code",
   "execution_count": 33,
   "id": "c72f327a-289d-4ae9-bd6b-3addd57701c7",
   "metadata": {},
   "outputs": [
    {
     "data": {
      "image/png": "[encoded data removed]",
      "text/plain": [
       "<Figure size 500x300 with 1 Axes>"
      ]
     },
     "metadata": {},
     "output_type": "display_data"
    }
   ],
   "source": [
    "#scatter plot for Serum Creatinine vs. Classification\n",
    "plt.figure(figsize=(5, 3))\n",
    "sns.scatterplot(x='sc', y='classification', data=df, alpha=0.6)\n",
    "\n",
    "# Adding a vertical line at sc=1.5 to indicate the threshold for increased risk\n",
    "plt.axvline(x=1.5, color='red', linestyle='--', label='Risk Threshold (>1.5)')\n",
    "\n",
    "# Adding shaded area to indicate high-risk levels\n",
    "plt.fill_betweenx(y=[-0.1, 1.1], x1=1.5, x2=df['sc'].max(), color='red', alpha=0.2)\n",
    "\n",
    "plt.title('Serum Creatinine Level vs. Kidney Failure Classification')\n",
    "plt.xlabel('Serum Creatinine Level')\n",
    "plt.ylabel('Kidney Failure (1 for CKD, 0 for not CKD)')\n",
    "plt.legend()\n",
    "plt.ylim(-0.1, 1.1) \n",
    "plt.show()"
   ]
  },
  {
   "cell_type": "markdown",
   "id": "6bf0e7d4-fad1-4fba-9c9d-00695d9e0458",
   "metadata": {},
   "source": [
    "## Hypertension vs CKD"
   ]
  },
  {
   "cell_type": "code",
   "execution_count": 34,
   "id": "32c11e97",
   "metadata": {
    "papermill": {
     "duration": 0.283475,
     "end_time": "2022-05-09T07:32:58.186418",
     "exception": false,
     "start_time": "2022-05-09T07:32:57.902943",
     "status": "completed"
    },
    "tags": []
   },
   "outputs": [
    {
     "data": {
      "image/png": "[encoded data removed]",
      "text/plain": [
       "<Figure size 600x700 with 1 Axes>"
      ]
     },
     "metadata": {},
     "output_type": "display_data"
    }
   ],
   "source": [
    "fig, ax = plt.subplots(figsize=(6,7))\n",
    "M=df[['htn']]\n",
    "N=df[['classification']]\n",
    "plt.title(\"Relation Between Hypertension: yes And Chronic Kidney Disease\");\n",
    "plt.xlabel(\"Hypertension: yes\")\n",
    "plt.ylabel(\"Chronic Kidney Disease(1=Yes,0=No)\")\n",
    "ax.scatter(M,N);\n",
    "plt.show();"
   ]
  },
  {
   "cell_type": "markdown",
   "id": "fbcac13a",
   "metadata": {
    "papermill": {
     "duration": 0.076232,
     "end_time": "2022-05-09T07:32:58.339640",
     "exception": false,
     "start_time": "2022-05-09T07:32:58.263408",
     "status": "completed"
    },
    "tags": []
   },
   "source": [
    "##### Urea Albumin vs CKD"
   ]
  },
  {
   "cell_type": "code",
   "execution_count": 35,
   "id": "ee6b953e",
   "metadata": {
    "papermill": {
     "duration": 0.261479,
     "end_time": "2022-05-09T07:32:58.677584",
     "exception": false,
     "start_time": "2022-05-09T07:32:58.416105",
     "status": "completed"
    },
    "tags": []
   },
   "outputs": [
    {
     "data": {
      "image/png": "[encoded data removed]",
      "text/plain": [
       "<Figure size 600x700 with 1 Axes>"
      ]
     },
     "metadata": {},
     "output_type": "display_data"
    }
   ],
   "source": [
    "fig, ax = plt.subplots(figsize=(6,7))\n",
    "M=df[['al']]\n",
    "N=df[['classification']]\n",
    "plt.title(\"Relation Between Albumin And Chronic Kidney Disease\");\n",
    "plt.xlabel(\"Albumin\")\n",
    "plt.ylabel(\"Chronic Kidney Disease(1=Yes,0=No)\")\n",
    "ax.scatter(M,N);\n",
    "plt.show();"
   ]
  },
  {
   "cell_type": "markdown",
   "id": "6a36426a",
   "metadata": {
    "papermill": {
     "duration": 0.076827,
     "end_time": "2022-05-09T07:32:58.832558",
     "exception": false,
     "start_time": "2022-05-09T07:32:58.755731",
     "status": "completed"
    },
    "tags": []
   },
   "source": [
    "### Diabetic vs CKD"
   ]
  },
  {
   "cell_type": "code",
   "execution_count": 36,
   "id": "43c0fb27",
   "metadata": {
    "papermill": {
     "duration": 0.274997,
     "end_time": "2022-05-09T07:32:59.184557",
     "exception": false,
     "start_time": "2022-05-09T07:32:58.909560",
     "status": "completed"
    },
    "tags": []
   },
   "outputs": [
    {
     "data": {
      "image/png": "[encoded data removed]",
      "text/plain": [
       "<Figure size 600x700 with 1 Axes>"
      ]
     },
     "metadata": {},
     "output_type": "display_data"
    }
   ],
   "source": [
    "fig, ax = plt.subplots(figsize=(6,7))\n",
    "M=df[['dm']]\n",
    "N=df[['classification']]\n",
    "plt.title(\"Relation Between Diabetes Mellitus: yes And Chronic Kidney Disease\",color=\"red\");\n",
    "plt.xlabel(\"Diabetes Mellitus: yes\")\n",
    "plt.ylabel(\"Chronic Kidney Disease(1=Yes,0=No)\")\n",
    "ax.scatter(M,N);\n",
    "plt.show();"
   ]
  },
  {
   "cell_type": "markdown",
   "id": "1d9c0cc9",
   "metadata": {
    "id": "2jXJpdAuiwYW",
    "papermill": {
     "duration": 0.084358,
     "end_time": "2022-05-09T07:33:03.632185",
     "exception": false,
     "start_time": "2022-05-09T07:33:03.547827",
     "status": "completed"
    },
    "tags": []
   },
   "source": [
    "### Defining feature set (X) and Target variable (y)"
   ]
  },
  {
   "cell_type": "code",
   "execution_count": 37,
   "id": "3537d611",
   "metadata": {
    "id": "QBCakTuli57t",
    "papermill": {
     "duration": 0.093317,
     "end_time": "2022-05-09T07:33:03.811331",
     "exception": false,
     "start_time": "2022-05-09T07:33:03.718014",
     "status": "completed"
    },
    "tags": []
   },
   "outputs": [
    {
     "name": "stdout",
     "output_type": "stream",
     "text": [
      "Shape of X (features): (400, 25)\n",
      "Shape of y (target): (400,)\n"
     ]
    }
   ],
   "source": [
    "# Define the feature set (X) by excluding the 'classification' column\n",
    "X = df.drop('classification', axis=1)\n",
    "\n",
    "# Define the target variable (y) which is 'classification'\n",
    "y = df['classification']\n",
    "\n",
    "# You can print the shapes of X and y to verify\n",
    "print(\"Shape of X (features):\", X.shape)\n",
    "print(\"Shape of y (target):\", y.shape)"
   ]
  },
  {
   "cell_type": "markdown",
   "id": "941c830b-c900-4ef0-86da-8f6bf809402f",
   "metadata": {},
   "source": [
    "# 1. Logistic Regression Model "
   ]
  },
  {
   "cell_type": "code",
   "execution_count": 38,
   "id": "960cba60-5a52-4bb6-8632-1f6ba7f63743",
   "metadata": {},
   "outputs": [],
   "source": [
    "from sklearn.model_selection import GridSearchCV\n",
    "from sklearn.linear_model import LogisticRegression\n",
    "from sklearn.model_selection import train_test_split"
   ]
  },
  {
   "cell_type": "code",
   "execution_count": 39,
   "id": "a245e62c-0a75-44e9-8ebb-b0f7a0b10071",
   "metadata": {},
   "outputs": [],
   "source": [
    "# Split the dataset into training and testing sets\n",
    "X_train, X_test, y_train, y_test = train_test_split(X, y, test_size=0.2, random_state=42)\n",
    "\n",
    "# Define the logistic regression model\n",
    "log_reg = LogisticRegression()\n",
    "\n",
    "# Define a hyperparameter grid to search\n",
    "param_grid = {\n",
    "    'C': [0.001, 0.01, 0.1, 1, 10, 100],\n",
    "    'penalty': ['l1', 'l2'],\n",
    "    'solver': ['liblinear', 'saga']\n",
    "}"
   ]
  },
  {
   "cell_type": "code",
   "execution_count": 40,
   "id": "1683b38a-e724-4b92-bacf-311e1efc9af9",
   "metadata": {},
   "outputs": [],
   "source": [
    "# Initialize GridSearchCV with the logistic regression model and the hyperparameter grid\n",
    "grid_search = GridSearchCV(log_reg, param_grid, cv=5, scoring='accuracy')"
   ]
  },
  {
   "cell_type": "code",
   "execution_count": 41,
   "id": "d0e3ebc9-6c0c-45b2-9eb0-53c9e7fb7a6a",
   "metadata": {},
   "outputs": [
    {
     "name": "stderr",
     "output_type": "stream",
     "text": [
      "/Users/raja/anaconda3/lib/python3.11/site-packages/sklearn/linear_model/_sag.py:350: ConvergenceWarning: The max_iter was reached which means the coef_ did not converge\n",
      "  warnings.warn(\n",
      "/Users/raja/anaconda3/lib/python3.11/site-packages/sklearn/linear_model/_sag.py:350: ConvergenceWarning: The max_iter was reached which means the coef_ did not converge\n",
      "  warnings.warn(\n",
      "/Users/raja/anaconda3/lib/python3.11/site-packages/sklearn/linear_model/_sag.py:350: ConvergenceWarning: The max_iter was reached which means the coef_ did not converge\n",
      "  warnings.warn(\n",
      "/Users/raja/anaconda3/lib/python3.11/site-packages/sklearn/linear_model/_sag.py:350: ConvergenceWarning: The max_iter was reached which means the coef_ did not converge\n",
      "  warnings.warn(\n",
      "/Users/raja/anaconda3/lib/python3.11/site-packages/sklearn/linear_model/_sag.py:350: ConvergenceWarning: The max_iter was reached which means the coef_ did not converge\n",
      "  warnings.warn(\n",
      "/Users/raja/anaconda3/lib/python3.11/site-packages/sklearn/linear_model/_sag.py:350: ConvergenceWarning: The max_iter was reached which means the coef_ did not converge\n",
      "  warnings.warn(\n",
      "/Users/raja/anaconda3/lib/python3.11/site-packages/sklearn/linear_model/_sag.py:350: ConvergenceWarning: The max_iter was reached which means the coef_ did not converge\n",
      "  warnings.warn(\n",
      "/Users/raja/anaconda3/lib/python3.11/site-packages/sklearn/linear_model/_sag.py:350: ConvergenceWarning: The max_iter was reached which means the coef_ did not converge\n",
      "  warnings.warn(\n",
      "/Users/raja/anaconda3/lib/python3.11/site-packages/sklearn/linear_model/_sag.py:350: ConvergenceWarning: The max_iter was reached which means the coef_ did not converge\n",
      "  warnings.warn(\n",
      "/Users/raja/anaconda3/lib/python3.11/site-packages/sklearn/linear_model/_sag.py:350: ConvergenceWarning: The max_iter was reached which means the coef_ did not converge\n",
      "  warnings.warn(\n",
      "/Users/raja/anaconda3/lib/python3.11/site-packages/sklearn/linear_model/_sag.py:350: ConvergenceWarning: The max_iter was reached which means the coef_ did not converge\n",
      "  warnings.warn(\n",
      "/Users/raja/anaconda3/lib/python3.11/site-packages/sklearn/linear_model/_sag.py:350: ConvergenceWarning: The max_iter was reached which means the coef_ did not converge\n",
      "  warnings.warn(\n",
      "/Users/raja/anaconda3/lib/python3.11/site-packages/sklearn/linear_model/_sag.py:350: ConvergenceWarning: The max_iter was reached which means the coef_ did not converge\n",
      "  warnings.warn(\n",
      "/Users/raja/anaconda3/lib/python3.11/site-packages/sklearn/linear_model/_sag.py:350: ConvergenceWarning: The max_iter was reached which means the coef_ did not converge\n",
      "  warnings.warn(\n",
      "/Users/raja/anaconda3/lib/python3.11/site-packages/sklearn/linear_model/_sag.py:350: ConvergenceWarning: The max_iter was reached which means the coef_ did not converge\n",
      "  warnings.warn(\n",
      "/Users/raja/anaconda3/lib/python3.11/site-packages/sklearn/linear_model/_sag.py:350: ConvergenceWarning: The max_iter was reached which means the coef_ did not converge\n",
      "  warnings.warn(\n",
      "/Users/raja/anaconda3/lib/python3.11/site-packages/sklearn/linear_model/_sag.py:350: ConvergenceWarning: The max_iter was reached which means the coef_ did not converge\n",
      "  warnings.warn(\n",
      "/Users/raja/anaconda3/lib/python3.11/site-packages/sklearn/linear_model/_sag.py:350: ConvergenceWarning: The max_iter was reached which means the coef_ did not converge\n",
      "  warnings.warn(\n",
      "/Users/raja/anaconda3/lib/python3.11/site-packages/sklearn/linear_model/_sag.py:350: ConvergenceWarning: The max_iter was reached which means the coef_ did not converge\n",
      "  warnings.warn(\n",
      "/Users/raja/anaconda3/lib/python3.11/site-packages/sklearn/linear_model/_sag.py:350: ConvergenceWarning: The max_iter was reached which means the coef_ did not converge\n",
      "  warnings.warn(\n",
      "/Users/raja/anaconda3/lib/python3.11/site-packages/sklearn/linear_model/_sag.py:350: ConvergenceWarning: The max_iter was reached which means the coef_ did not converge\n",
      "  warnings.warn(\n",
      "/Users/raja/anaconda3/lib/python3.11/site-packages/sklearn/linear_model/_sag.py:350: ConvergenceWarning: The max_iter was reached which means the coef_ did not converge\n",
      "  warnings.warn(\n",
      "/Users/raja/anaconda3/lib/python3.11/site-packages/sklearn/linear_model/_sag.py:350: ConvergenceWarning: The max_iter was reached which means the coef_ did not converge\n",
      "  warnings.warn(\n",
      "/Users/raja/anaconda3/lib/python3.11/site-packages/sklearn/linear_model/_sag.py:350: ConvergenceWarning: The max_iter was reached which means the coef_ did not converge\n",
      "  warnings.warn(\n",
      "/Users/raja/anaconda3/lib/python3.11/site-packages/sklearn/linear_model/_sag.py:350: ConvergenceWarning: The max_iter was reached which means the coef_ did not converge\n",
      "  warnings.warn(\n",
      "/Users/raja/anaconda3/lib/python3.11/site-packages/sklearn/linear_model/_sag.py:350: ConvergenceWarning: The max_iter was reached which means the coef_ did not converge\n",
      "  warnings.warn(\n",
      "/Users/raja/anaconda3/lib/python3.11/site-packages/sklearn/linear_model/_sag.py:350: ConvergenceWarning: The max_iter was reached which means the coef_ did not converge\n",
      "  warnings.warn(\n",
      "/Users/raja/anaconda3/lib/python3.11/site-packages/sklearn/linear_model/_sag.py:350: ConvergenceWarning: The max_iter was reached which means the coef_ did not converge\n",
      "  warnings.warn(\n",
      "/Users/raja/anaconda3/lib/python3.11/site-packages/sklearn/linear_model/_sag.py:350: ConvergenceWarning: The max_iter was reached which means the coef_ did not converge\n",
      "  warnings.warn(\n",
      "/Users/raja/anaconda3/lib/python3.11/site-packages/sklearn/linear_model/_sag.py:350: ConvergenceWarning: The max_iter was reached which means the coef_ did not converge\n",
      "  warnings.warn(\n",
      "/Users/raja/anaconda3/lib/python3.11/site-packages/sklearn/linear_model/_sag.py:350: ConvergenceWarning: The max_iter was reached which means the coef_ did not converge\n",
      "  warnings.warn(\n",
      "/Users/raja/anaconda3/lib/python3.11/site-packages/sklearn/linear_model/_sag.py:350: ConvergenceWarning: The max_iter was reached which means the coef_ did not converge\n",
      "  warnings.warn(\n",
      "/Users/raja/anaconda3/lib/python3.11/site-packages/sklearn/linear_model/_sag.py:350: ConvergenceWarning: The max_iter was reached which means the coef_ did not converge\n",
      "  warnings.warn(\n",
      "/Users/raja/anaconda3/lib/python3.11/site-packages/sklearn/linear_model/_sag.py:350: ConvergenceWarning: The max_iter was reached which means the coef_ did not converge\n",
      "  warnings.warn(\n",
      "/Users/raja/anaconda3/lib/python3.11/site-packages/sklearn/linear_model/_sag.py:350: ConvergenceWarning: The max_iter was reached which means the coef_ did not converge\n",
      "  warnings.warn(\n",
      "/Users/raja/anaconda3/lib/python3.11/site-packages/sklearn/linear_model/_sag.py:350: ConvergenceWarning: The max_iter was reached which means the coef_ did not converge\n",
      "  warnings.warn(\n",
      "/Users/raja/anaconda3/lib/python3.11/site-packages/sklearn/linear_model/_sag.py:350: ConvergenceWarning: The max_iter was reached which means the coef_ did not converge\n",
      "  warnings.warn(\n",
      "/Users/raja/anaconda3/lib/python3.11/site-packages/sklearn/linear_model/_sag.py:350: ConvergenceWarning: The max_iter was reached which means the coef_ did not converge\n",
      "  warnings.warn(\n",
      "/Users/raja/anaconda3/lib/python3.11/site-packages/sklearn/linear_model/_sag.py:350: ConvergenceWarning: The max_iter was reached which means the coef_ did not converge\n",
      "  warnings.warn(\n",
      "/Users/raja/anaconda3/lib/python3.11/site-packages/sklearn/linear_model/_sag.py:350: ConvergenceWarning: The max_iter was reached which means the coef_ did not converge\n",
      "  warnings.warn(\n",
      "/Users/raja/anaconda3/lib/python3.11/site-packages/sklearn/linear_model/_sag.py:350: ConvergenceWarning: The max_iter was reached which means the coef_ did not converge\n",
      "  warnings.warn(\n",
      "/Users/raja/anaconda3/lib/python3.11/site-packages/sklearn/linear_model/_sag.py:350: ConvergenceWarning: The max_iter was reached which means the coef_ did not converge\n",
      "  warnings.warn(\n",
      "/Users/raja/anaconda3/lib/python3.11/site-packages/sklearn/linear_model/_sag.py:350: ConvergenceWarning: The max_iter was reached which means the coef_ did not converge\n",
      "  warnings.warn(\n",
      "/Users/raja/anaconda3/lib/python3.11/site-packages/sklearn/linear_model/_sag.py:350: ConvergenceWarning: The max_iter was reached which means the coef_ did not converge\n",
      "  warnings.warn(\n",
      "/Users/raja/anaconda3/lib/python3.11/site-packages/sklearn/linear_model/_sag.py:350: ConvergenceWarning: The max_iter was reached which means the coef_ did not converge\n",
      "  warnings.warn(\n",
      "/Users/raja/anaconda3/lib/python3.11/site-packages/sklearn/linear_model/_sag.py:350: ConvergenceWarning: The max_iter was reached which means the coef_ did not converge\n",
      "  warnings.warn(\n",
      "/Users/raja/anaconda3/lib/python3.11/site-packages/sklearn/linear_model/_sag.py:350: ConvergenceWarning: The max_iter was reached which means the coef_ did not converge\n",
      "  warnings.warn(\n",
      "/Users/raja/anaconda3/lib/python3.11/site-packages/sklearn/linear_model/_sag.py:350: ConvergenceWarning: The max_iter was reached which means the coef_ did not converge\n",
      "  warnings.warn(\n",
      "/Users/raja/anaconda3/lib/python3.11/site-packages/sklearn/linear_model/_sag.py:350: ConvergenceWarning: The max_iter was reached which means the coef_ did not converge\n",
      "  warnings.warn(\n",
      "/Users/raja/anaconda3/lib/python3.11/site-packages/sklearn/linear_model/_sag.py:350: ConvergenceWarning: The max_iter was reached which means the coef_ did not converge\n",
      "  warnings.warn(\n",
      "/Users/raja/anaconda3/lib/python3.11/site-packages/sklearn/linear_model/_sag.py:350: ConvergenceWarning: The max_iter was reached which means the coef_ did not converge\n",
      "  warnings.warn(\n",
      "/Users/raja/anaconda3/lib/python3.11/site-packages/sklearn/linear_model/_sag.py:350: ConvergenceWarning: The max_iter was reached which means the coef_ did not converge\n",
      "  warnings.warn(\n",
      "/Users/raja/anaconda3/lib/python3.11/site-packages/sklearn/linear_model/_sag.py:350: ConvergenceWarning: The max_iter was reached which means the coef_ did not converge\n",
      "  warnings.warn(\n",
      "/Users/raja/anaconda3/lib/python3.11/site-packages/sklearn/linear_model/_sag.py:350: ConvergenceWarning: The max_iter was reached which means the coef_ did not converge\n",
      "  warnings.warn(\n",
      "/Users/raja/anaconda3/lib/python3.11/site-packages/sklearn/linear_model/_sag.py:350: ConvergenceWarning: The max_iter was reached which means the coef_ did not converge\n",
      "  warnings.warn(\n"
     ]
    },
    {
     "name": "stdout",
     "output_type": "stream",
     "text": [
      "Best parameters found:  {'C': 10, 'penalty': 'l1', 'solver': 'liblinear'}\n",
      "Best score found:  0.996875\n"
     ]
    },
    {
     "name": "stderr",
     "output_type": "stream",
     "text": [
      "/Users/raja/anaconda3/lib/python3.11/site-packages/sklearn/linear_model/_sag.py:350: ConvergenceWarning: The max_iter was reached which means the coef_ did not converge\n",
      "  warnings.warn(\n",
      "/Users/raja/anaconda3/lib/python3.11/site-packages/sklearn/linear_model/_sag.py:350: ConvergenceWarning: The max_iter was reached which means the coef_ did not converge\n",
      "  warnings.warn(\n",
      "/Users/raja/anaconda3/lib/python3.11/site-packages/sklearn/linear_model/_sag.py:350: ConvergenceWarning: The max_iter was reached which means the coef_ did not converge\n",
      "  warnings.warn(\n",
      "/Users/raja/anaconda3/lib/python3.11/site-packages/sklearn/linear_model/_sag.py:350: ConvergenceWarning: The max_iter was reached which means the coef_ did not converge\n",
      "  warnings.warn(\n",
      "/Users/raja/anaconda3/lib/python3.11/site-packages/sklearn/linear_model/_sag.py:350: ConvergenceWarning: The max_iter was reached which means the coef_ did not converge\n",
      "  warnings.warn(\n"
     ]
    }
   ],
   "source": [
    "# Fit GridSearchCV on the training data\n",
    "grid_search.fit(X_train, y_train)\n",
    "\n",
    "# Print the best parameters and the best score\n",
    "print(\"Best parameters found: \", grid_search.best_params_)\n",
    "print(\"Best score found: \", grid_search.best_score_)"
   ]
  },
  {
   "cell_type": "markdown",
   "id": "4bdef84e-d1cf-4e11-8cb7-6ee20abe62b3",
   "metadata": {},
   "source": [
    "### Logistic Regression Model Evaluation"
   ]
  },
  {
   "cell_type": "code",
   "execution_count": 42,
   "id": "2712dadd-3636-4b4c-aee7-7e93a585e9b0",
   "metadata": {},
   "outputs": [
    {
     "name": "stdout",
     "output_type": "stream",
     "text": [
      "Accuracy: 100.00%\n",
      "\n",
      "Classification Report:\n",
      "              precision    recall  f1-score   support\n",
      "\n",
      "           0       1.00      1.00      1.00        28\n",
      "           1       1.00      1.00      1.00        52\n",
      "\n",
      "    accuracy                           1.00        80\n",
      "   macro avg       1.00      1.00      1.00        80\n",
      "weighted avg       1.00      1.00      1.00        80\n",
      "\n"
     ]
    },
    {
     "data": {
      "image/png": "[encoded data removed]",
      "text/plain": [
       "<Figure size 800x600 with 2 Axes>"
      ]
     },
     "metadata": {},
     "output_type": "display_data"
    }
   ],
   "source": [
    "from sklearn.metrics import classification_report, confusion_matrix, accuracy_score\n",
    "import seaborn as sns\n",
    "import matplotlib.pyplot as plt\n",
    "\n",
    "# Use the best estimator found by GridSearchCV to make predictions on the test set\n",
    "best_model = grid_search.best_estimator_\n",
    "y_pred = best_model.predict(X_test)\n",
    "\n",
    "# Calculate and print the accuracy\n",
    "accuracy = accuracy_score(y_test, y_pred) * 100\n",
    "print(f\"Accuracy: {accuracy:.2f}%\")\n",
    "\n",
    "# Generate and print the classification report\n",
    "print(\"\\nClassification Report:\")\n",
    "print(classification_report(y_test, y_pred))\n",
    "\n",
    "# Generate the confusion matrix\n",
    "conf_matrix = confusion_matrix(y_test, y_pred)\n",
    "\n",
    "# Plot the confusion matrix heatmap\n",
    "plt.figure(figsize=(8, 6))\n",
    "sns.heatmap(conf_matrix, annot=True, fmt='d', cmap='Blues', xticklabels=['Not CKD', 'CKD'], yticklabels=['Not CKD', 'CKD'])\n",
    "plt.xlabel('Predicted Label')\n",
    "plt.ylabel('True Label')\n",
    "plt.title('Confusion Matrix Heatmap')\n",
    "plt.show()"
   ]
  },
  {
   "cell_type": "code",
   "execution_count": 43,
   "id": "838cf58b-4487-416e-b547-c3606a7c14c3",
   "metadata": {},
   "outputs": [
    {
     "name": "stdout",
     "output_type": "stream",
     "text": [
      "ROC AUC: 1.00\n"
     ]
    },
    {
     "data": {
      "image/png": "[encoded data removed]",
      "text/plain": [
       "<Figure size 800x600 with 1 Axes>"
      ]
     },
     "metadata": {},
     "output_type": "display_data"
    }
   ],
   "source": [
    "from sklearn.metrics import roc_curve, roc_auc_score\n",
    "import matplotlib.pyplot as plt\n",
    "\n",
    "# Get predicted probabilities for the positive class\n",
    "y_pred_prob = best_model.predict_proba(X_test)[:, 1]\n",
    "\n",
    "# Calculate the ROC curve points\n",
    "fpr, tpr, thresholds = roc_curve(y_test, y_pred_prob)\n",
    "\n",
    "# Calculate the AUC\n",
    "roc_auc = roc_auc_score(y_test, y_pred_prob)\n",
    "print(f\"ROC AUC: {roc_auc:.2f}\")\n",
    "\n",
    "# Plot the ROC curve\n",
    "plt.figure(figsize=(8, 6))\n",
    "plt.plot(fpr, tpr, label=f'Logistic Regression (AUC = {roc_auc:.2f})')\n",
    "plt.plot([0, 1], [0, 1], 'k--')  # Dashed diagonal line\n",
    "plt.xlabel('False Positive Rate')\n",
    "plt.ylabel('True Positive Rate')\n",
    "plt.title('ROC Curve')\n",
    "plt.legend(loc='lower right')\n",
    "plt.show()"
   ]
  },
  {
   "cell_type": "code",
   "execution_count": 44,
   "id": "e8de8aa7-ea4f-47be-9510-a1adf0c5f3b8",
   "metadata": {},
   "outputs": [
    {
     "data": {
      "text/plain": [
       "['ckd_logistic_regression_model.joblib']"
      ]
     },
     "execution_count": 44,
     "metadata": {},
     "output_type": "execute_result"
    }
   ],
   "source": [
    "## Let's save the model\n",
    "\n",
    "from joblib import dump\n",
    "\n",
    "# Save the best model to a file\n",
    "dump(grid_search.best_estimator_, 'ckd_logistic_regression_model.joblib')"
   ]
  },
  {
   "cell_type": "markdown",
   "id": "fc484806",
   "metadata": {
    "id": "LaDEvH4_8QKT",
    "papermill": {
     "duration": 0.099359,
     "end_time": "2022-05-09T07:33:13.444599",
     "exception": false,
     "start_time": "2022-05-09T07:33:13.345240",
     "status": "completed"
    },
    "tags": []
   },
   "source": [
    "# 2. Decision Tree Classifier Algorithm"
   ]
  },
  {
   "cell_type": "code",
   "execution_count": 45,
   "id": "48a86ff7-303a-438a-aa8c-d1eca326ada3",
   "metadata": {},
   "outputs": [
    {
     "name": "stdout",
     "output_type": "stream",
     "text": [
      "Best parameters found for Decision Tree:  {'criterion': 'gini', 'max_depth': None, 'min_samples_leaf': 1, 'min_samples_split': 2}\n",
      "Best score found for Decision Tree:  0.996875\n"
     ]
    }
   ],
   "source": [
    "from sklearn.tree import DecisionTreeClassifier\n",
    "from sklearn.model_selection import GridSearchCV\n",
    "\n",
    "# Define the Decision Tree model\n",
    "dt_clf = DecisionTreeClassifier(random_state=42)\n",
    "\n",
    "# Define a hyperparameter grid to search\n",
    "dt_param_grid = {\n",
    "    'criterion': ['gini', 'entropy'],\n",
    "    'max_depth': [None, 10, 20, 30, 40, 50],\n",
    "    'min_samples_split': [2, 5, 10],\n",
    "    'min_samples_leaf': [1, 2, 4, 6, 8]\n",
    "}\n",
    "\n",
    "# Initialize GridSearchCV with the Decision Tree model and the hyperparameter grid\n",
    "dt_grid_search = GridSearchCV(dt_clf, dt_param_grid, cv=5, scoring='accuracy')\n",
    "\n",
    "# Fit GridSearchCV on the training data\n",
    "dt_grid_search.fit(X_train, y_train)\n",
    "\n",
    "# Print the best parameters and the best score\n",
    "print(\"Best parameters found for Decision Tree: \", dt_grid_search.best_params_)\n",
    "print(\"Best score found for Decision Tree: \", dt_grid_search.best_score_)"
   ]
  },
  {
   "cell_type": "markdown",
   "id": "d7a95ef1-ced9-41cd-a0dc-18566c029662",
   "metadata": {},
   "source": [
    "### Decision Treee Model Evaluation"
   ]
  },
  {
   "cell_type": "code",
   "execution_count": 46,
   "id": "cdc39a8d-ddf7-4669-a29b-e0d30f654fdc",
   "metadata": {},
   "outputs": [
    {
     "name": "stdout",
     "output_type": "stream",
     "text": [
      "Decision Tree Accuracy: 100.00%\n",
      "\n",
      "Classification Report for Decision Tree:\n",
      "              precision    recall  f1-score   support\n",
      "\n",
      "           0       1.00      1.00      1.00        28\n",
      "           1       1.00      1.00      1.00        52\n",
      "\n",
      "    accuracy                           1.00        80\n",
      "   macro avg       1.00      1.00      1.00        80\n",
      "weighted avg       1.00      1.00      1.00        80\n",
      "\n"
     ]
    },
    {
     "data": {
      "image/png": "[encoded data removed]",
      "text/plain": [
       "<Figure size 800x600 with 2 Axes>"
      ]
     },
     "metadata": {},
     "output_type": "display_data"
    }
   ],
   "source": [
    "# Use the best estimator found by GridSearchCV to make predictions on the test set\n",
    "best_dt_model = dt_grid_search.best_estimator_\n",
    "y_pred_dt = best_dt_model.predict(X_test)\n",
    "\n",
    "# Calculate and print the accuracy\n",
    "accuracy_dt = accuracy_score(y_test, y_pred_dt) * 100\n",
    "print(f\"Decision Tree Accuracy: {accuracy_dt:.2f}%\")\n",
    "\n",
    "# Generate and print the classification report\n",
    "print(\"\\nClassification Report for Decision Tree:\")\n",
    "print(classification_report(y_test, y_pred_dt))\n",
    "\n",
    "# Generate the confusion matrix\n",
    "conf_matrix_dt = confusion_matrix(y_test, y_pred_dt)\n",
    "\n",
    "# Plot the confusion matrix heatmap\n",
    "plt.figure(figsize=(8, 6))\n",
    "sns.heatmap(conf_matrix_dt, annot=True, fmt='d', cmap='Blues', xticklabels=['Not CKD', 'CKD'], yticklabels=['Not CKD', 'CKD'])\n",
    "plt.xlabel('Predicted Label')\n",
    "plt.ylabel('True Label')\n",
    "plt.title('Decision Tree Confusion Matrix Heatmap')\n",
    "plt.show()"
   ]
  },
  {
   "cell_type": "code",
   "execution_count": 47,
   "id": "343abd79-0fb4-40be-9e3f-231acb516a3e",
   "metadata": {},
   "outputs": [
    {
     "name": "stdout",
     "output_type": "stream",
     "text": [
      "Decision Tree ROC AUC: 1.00\n"
     ]
    },
    {
     "data": {
      "image/png": "[encoded data removed]",
      "text/plain": [
       "<Figure size 800x600 with 1 Axes>"
      ]
     },
     "metadata": {},
     "output_type": "display_data"
    }
   ],
   "source": [
    "from sklearn.metrics import roc_curve, roc_auc_score\n",
    "import matplotlib.pyplot as plt\n",
    "\n",
    "# Get predicted probabilities for the positive class\n",
    "y_pred_prob_dt = best_dt_model.predict_proba(X_test)[:, 1]\n",
    "\n",
    "# Calculate the ROC curve points\n",
    "fpr_dt, tpr_dt, thresholds_dt = roc_curve(y_test, y_pred_prob_dt)\n",
    "\n",
    "# Calculate the AUC\n",
    "roc_auc_dt = roc_auc_score(y_test, y_pred_prob_dt)\n",
    "print(f\"Decision Tree ROC AUC: {roc_auc_dt:.2f}\")\n",
    "\n",
    "# Plot the ROC curve\n",
    "plt.figure(figsize=(8, 6))\n",
    "plt.plot(fpr_dt, tpr_dt, label=f'Decision Tree (AUC = {roc_auc_dt:.2f})')\n",
    "plt.plot([0, 1], [0, 1], 'k--')  # Dashed diagonal line\n",
    "plt.xlabel('False Positive Rate')\n",
    "plt.ylabel('True Positive Rate')\n",
    "plt.title('ROC Curve for Decision Tree')\n",
    "plt.legend(loc='lower right')\n",
    "plt.show()"
   ]
  },
  {
   "cell_type": "code",
   "execution_count": 48,
   "id": "8b8d8925-25bc-4b9c-90e9-8a7ff84680d6",
   "metadata": {},
   "outputs": [
    {
     "data": {
      "text/plain": [
       "['ckd_decision_tree_model.joblib']"
      ]
     },
     "execution_count": 48,
     "metadata": {},
     "output_type": "execute_result"
    }
   ],
   "source": [
    "# Save the best Decision Tree model to a file\n",
    "dump(dt_grid_search.best_estimator_, 'ckd_decision_tree_model.joblib')"
   ]
  },
  {
   "cell_type": "markdown",
   "id": "b71752c6-ad08-44d5-8695-87e5e26d37ad",
   "metadata": {},
   "source": [
    "# 3. K-Nearest Neighbors (KNN) Algorithm"
   ]
  },
  {
   "cell_type": "code",
   "execution_count": 49,
   "id": "2bad538a-96ba-4978-bcc3-fa5b6cabf815",
   "metadata": {},
   "outputs": [],
   "source": [
    "from sklearn.neighbors import KNeighborsClassifier\n",
    "from sklearn.model_selection import GridSearchCV\n",
    "from sklearn.preprocessing import StandardScaler\n",
    "from sklearn.metrics import accuracy_score, classification_report, confusion_matrix\n",
    "import seaborn as sns\n",
    "import matplotlib.pyplot as plt"
   ]
  },
  {
   "cell_type": "code",
   "execution_count": 50,
   "id": "2216cbed-85af-4094-baf4-b8089d2bc4b2",
   "metadata": {},
   "outputs": [
    {
     "name": "stdout",
     "output_type": "stream",
     "text": [
      "Best parameters found for KNN:  {'metric': 'manhattan', 'n_neighbors': 5, 'weights': 'uniform'}\n",
      "Best score found for KNN:  0.990625\n"
     ]
    }
   ],
   "source": [
    "# Initialize the scaler\n",
    "scaler = StandardScaler()\n",
    "\n",
    "# Fit the scaler to the training data and transform it\n",
    "X_train_scaled = scaler.fit_transform(X_train)\n",
    "\n",
    "# Transform the test data\n",
    "X_test_scaled = scaler.transform(X_test)\n",
    "\n",
    "# Define the KNN model\n",
    "knn_clf = KNeighborsClassifier()\n",
    "\n",
    "# Define a hyperparameter grid to search\n",
    "knn_param_grid = {\n",
    "    'n_neighbors': [1, 3, 5, 7, 9, 11],\n",
    "    'weights': ['uniform', 'distance'],\n",
    "    'metric': ['euclidean', 'manhattan', 'minkowski']\n",
    "}\n",
    "\n",
    "# Initialize GridSearchCV with the KNN model and the hyperparameter grid\n",
    "knn_grid_search = GridSearchCV(knn_clf, knn_param_grid, cv=5, scoring='accuracy')\n",
    "\n",
    "# Fit GridSearchCV on the scaled training data\n",
    "knn_grid_search.fit(X_train_scaled, y_train)\n",
    "\n",
    "# Print the best parameters and the best score\n",
    "print(\"Best parameters found for KNN: \", knn_grid_search.best_params_)\n",
    "print(\"Best score found for KNN: \", knn_grid_search.best_score_)"
   ]
  },
  {
   "cell_type": "markdown",
   "id": "41d8cbd5-f63f-40dc-a489-30a85be243d7",
   "metadata": {},
   "source": [
    "## KNN Model Evaluation"
   ]
  },
  {
   "cell_type": "code",
   "execution_count": 51,
   "id": "29e58884-1767-460b-993c-e079914f16b6",
   "metadata": {},
   "outputs": [
    {
     "name": "stdout",
     "output_type": "stream",
     "text": [
      "KNN Accuracy: 98.75%\n",
      "\n",
      "Classification Report for KNN:\n",
      "              precision    recall  f1-score   support\n",
      "\n",
      "           0       0.97      1.00      0.98        28\n",
      "           1       1.00      0.98      0.99        52\n",
      "\n",
      "    accuracy                           0.99        80\n",
      "   macro avg       0.98      0.99      0.99        80\n",
      "weighted avg       0.99      0.99      0.99        80\n",
      "\n"
     ]
    },
    {
     "data": {
      "image/png": "[encoded data removed]",
      "text/plain": [
       "<Figure size 800x600 with 2 Axes>"
      ]
     },
     "metadata": {},
     "output_type": "display_data"
    }
   ],
   "source": [
    "# Use the best estimator found by GridSearchCV to make predictions on the scaled test set\n",
    "best_knn_model = knn_grid_search.best_estimator_\n",
    "y_pred_knn = best_knn_model.predict(X_test_scaled)\n",
    "\n",
    "# Calculate and print the accuracy\n",
    "accuracy_knn = accuracy_score(y_test, y_pred_knn) * 100\n",
    "print(f\"KNN Accuracy: {accuracy_knn:.2f}%\")\n",
    "\n",
    "# Generate and print the classification report\n",
    "print(\"\\nClassification Report for KNN:\")\n",
    "print(classification_report(y_test, y_pred_knn))\n",
    "\n",
    "# Generate the confusion matrix\n",
    "conf_matrix_knn = confusion_matrix(y_test, y_pred_knn)\n",
    "\n",
    "# Plot the confusion matrix heatmap\n",
    "plt.figure(figsize=(8, 6))\n",
    "sns.heatmap(conf_matrix_knn, annot=True, fmt='d', cmap='Blues', xticklabels=['Not CKD', 'CKD'], yticklabels=['Not CKD', 'CKD'])\n",
    "plt.xlabel('Predicted Label')\n",
    "plt.ylabel('True Label')\n",
    "plt.title('KNN Confusion Matrix Heatmap')\n",
    "plt.show()"
   ]
  },
  {
   "cell_type": "code",
   "execution_count": 52,
   "id": "ab7fc9cb-d684-4138-9b60-bd78ca08b232",
   "metadata": {},
   "outputs": [
    {
     "name": "stdout",
     "output_type": "stream",
     "text": [
      "KNN ROC AUC: 0.99\n"
     ]
    },
    {
     "data": {
      "image/png": "[encoded data removed]",
      "text/plain": [
       "<Figure size 800x600 with 1 Axes>"
      ]
     },
     "metadata": {},
     "output_type": "display_data"
    }
   ],
   "source": [
    "from sklearn.metrics import roc_curve, roc_auc_score\n",
    "\n",
    "# Get the probability scores for the positive class\n",
    "y_pred_prob_knn = best_knn_model.predict_proba(X_test_scaled)[:, 1]\n",
    "\n",
    "# Calculate the ROC curve points\n",
    "fpr_knn, tpr_knn, thresholds_knn = roc_curve(y_test, y_pred_prob_knn)\n",
    "\n",
    "# Calculate the AUC\n",
    "roc_auc_knn = roc_auc_score(y_test, y_pred_prob_knn)\n",
    "print(f\"KNN ROC AUC: {roc_auc_knn:.2f}\")\n",
    "\n",
    "# Plot the ROC curve\n",
    "plt.figure(figsize=(8, 6))\n",
    "plt.plot(fpr_knn, tpr_knn, label=f'KNN (AUC = {roc_auc_knn:.2f})')\n",
    "plt.plot([0, 1], [0, 1], 'k--')  # Dashed diagonal line represents a random model\n",
    "plt.xlabel('False Positive Rate')\n",
    "plt.ylabel('True Positive Rate')\n",
    "plt.title('ROC Curve for KNN')\n",
    "plt.legend(loc='lower right')\n",
    "plt.show()"
   ]
  },
  {
   "cell_type": "code",
   "execution_count": 53,
   "id": "aa8cf1c1-c7c2-4596-8710-4afb78c0aa05",
   "metadata": {},
   "outputs": [
    {
     "data": {
      "text/plain": [
       "['ckd_knn_model.joblib']"
      ]
     },
     "execution_count": 53,
     "metadata": {},
     "output_type": "execute_result"
    }
   ],
   "source": [
    "from joblib import dump\n",
    "\n",
    "# Save the best KNN model to a file\n",
    "dump(knn_grid_search.best_estimator_, 'ckd_knn_model.joblib')"
   ]
  }
 ],
 "metadata": {
  "kernelspec": {
   "display_name": "Python 3 (ipykernel)",
   "language": "python",
   "name": "python3"
  },
  "language_info": {
   "codemirror_mode": {
    "name": "ipython",
    "version": 3
   },
   "file_extension": ".py",
   "mimetype": "text/x-python",
   "name": "python",
   "nbconvert_exporter": "python",
   "pygments_lexer": "ipython3",
   "version": "3.11.4"
  },
  "papermill": {
   "default_parameters": {},
   "duration": 43.753746,
   "end_time": "2022-05-09T07:33:20.949185",
   "environment_variables": {},
   "exception": null,
   "input_path": "__notebook__.ipynb",
   "output_path": "__notebook__.ipynb",
   "parameters": {},
   "start_time": "2022-05-09T07:32:37.195439",
   "version": "2.3.3"
  }
 },
 "nbformat": 4,
 "nbformat_minor": 5
}
